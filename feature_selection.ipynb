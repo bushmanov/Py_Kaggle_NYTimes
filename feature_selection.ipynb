{
 "cells": [
  {
   "cell_type": "markdown",
   "metadata": {},
   "source": [
    "This is the third post in an exercise to predict post popularity on a NYTimes website. Two previous post described fitting a simple Random Forest model and theory behind the need for feature selection (or feature reduction):\n",
    "- [Naïve Random Forest Classifier](http://r-train.ru/naive-random-forest-classifier/)\n",
    "- [Fitting models on low signal-to-noise data](http://r-train.ru/fitting-models-on-low-signal-to-noise-data/)  \n",
    "\n",
    "Though theoretically the need for feature selection is well proved and a devoted module exist in `sklearn` with a name `feature_selection`, practically it's not quite clear to what extent feature selection is needed in different models.  \n",
    "\n",
    "Max Kuhn, e.g., the author of machine learning `caret` package for R [writes](http://topepo.github.io/caret/featureselection.html):\n",
    "\n",
    "> Many models that can be accessed using caret's train function produce prediction equations that do not necessarily use all the predictors. These models are thought to have built-in feature selection: ada, bagEarth, bagFDA, bstLs, bstSm, C5.0, C5.0Cost, C5.0Rules, C5.0Tree, cforest, ctree, ctree2, cubist, earth, enet, evtree, extraTrees, fda, gamboost, gbm, gcvEarth, glmnet, glmStepAIC, J48, JRip, lars, lars2, lasso, LMT, LogitBoost, M5, M5Rules, nodeHarvest, oblique.tree, OneR, ORFlog, ORFpls, ORFridge, ORFsvm, pam, parRF, PART, penalized, PenalizedLDA, qrf, relaxo, rf, rFerns, rpart, rpart2, rpartCost, RRF, RRFglobal, smda, sparseLDA. Many of the functions have an ancillary method called predictors that returns a vector indicating which predictors were used in the final model.\n",
    "\n",
    "> In many cases, using these models with built-in feature selection will be more efficient than algorithms where the search routine for the right predictors is external to the model. Built-in feature selection typically couples the predictor search algorithm with the parameter estimation and are usually optimized with a single objective function (e.g. error rates or likelihood).\n",
    "\n",
    "Note, that Random Forest per se is not a model with internal feature selection.\n",
    "\n",
    "In this post I will try several methods (linear and non-linear) with internal feature selection and see if combining them with Random Forest can improve AUC=0.92616 achieved on the [first attempt](http://r-train.ru/naive-random-forest-classifier/).\n",
    "\n",
    "The plan is as follows: \n",
    "\n",
    "1. Repeat preprocessing as [before](http://r-train.ru/naive-random-forest-classifier/)\n",
    "2. Try several different feature selection approaches, namely:\n",
    "    - univariate feature selection\n",
    "    - try `RandomizedLogisticRegression` function from `sklearn.linear_model`\n",
    "    - try adhoc Randomized Logistic Regression with different penalties (l1 vs l2) and regularizing params (C)\n",
    "    - try randomized SVM with different combinations of l1,l2 and C\n",
    "3. Tune Random Forest on reduced set of features and see which reduction approach would perform best"
   ]
  },
  {
   "cell_type": "markdown",
   "metadata": {},
   "source": [
    "## Preprocess data"
   ]
  },
  {
   "cell_type": "markdown",
   "metadata": {},
   "source": [
    "Load data"
   ]
  },
  {
   "cell_type": "code",
   "execution_count": 1,
   "metadata": {
    "collapsed": true
   },
   "outputs": [],
   "source": [
    "import numpy as np\n",
    "import pandas as pd\n",
    "seed = 1\n",
    "train = pd.read_csv('/home/sergey/R_Analyttics_Edge_MITx/kaggle/NYTimesBlogTrain.csv')\n",
    "test = pd.read_csv('/home/sergey/R_Analyttics_Edge_MITx/kaggle/NYTimesBlogTest.csv')\n",
    "combo = pd.merge(train, test, how='outer')\n",
    "combo = combo.drop('Popular', axis=1)\n",
    "y = train['Popular']\n",
    "combo_clean = combo.fillna('empty')\n",
    "combo_clean['LogWC'] = np.log(.1+ combo_clean['WordCount'])"
   ]
  },
  {
   "cell_type": "markdown",
   "metadata": {},
   "source": [
    "Extract Date/time info and bin time"
   ]
  },
  {
   "cell_type": "code",
   "execution_count": 2,
   "metadata": {
    "collapsed": true
   },
   "outputs": [],
   "source": [
    "import datetime as dt\n",
    "combo_clean['date'] = combo_clean['PubDate'].apply(\n",
    "    lambda x: dt.datetime.strptime(x, '%Y-%m-%d %H:%M:%S').strftime('%A')\n",
    ")\n",
    "combo_clean['hour'] = combo_clean['PubDate'].apply(\n",
    "    lambda x: int(dt.datetime.strptime(x, '%Y-%m-%d %H:%M:%S').strftime('%H'))\n",
    ")\n",
    "combo_clean[['PubDate','date','hour']][1:5]\n",
    "bins = np.linspace(0,24,5)\n",
    "labels = ['night', 'morning', 'afternoon', 'evening']\n",
    "combo_clean['hour_bins'] = pd.cut(combo_clean['hour'], bins=bins, labels=labels)\n",
    "combo_clean.drop(['hour', 'WordCount', 'PubDate'], axis=1, inplace=True)"
   ]
  },
  {
   "cell_type": "markdown",
   "metadata": {},
   "source": [
    "Make dummies and bags of words"
   ]
  },
  {
   "cell_type": "code",
   "execution_count": 3,
   "metadata": {
    "collapsed": true
   },
   "outputs": [],
   "source": [
    "import sklearn.feature_extraction.text as txt\n",
    "categorical_dummies = pd.get_dummies(combo_clean[['NewsDesk','SectionName','SubsectionName','date', 'hour_bins']])\n",
    "categorical_dummies.shape\n",
    "tfidf = txt.TfidfVectorizer(stop_words='english', min_df=10, ngram_range=(1, 2),)\n",
    "tfidf\n",
    "bwHeadline       = (tfidf.fit_transform(combo_clean['Headline'])).todense()\n",
    "bwHeadline_names = np.asarray(tfidf.get_feature_names())\n",
    "bwHeadline_names = np.core.defchararray.add('H_', bwHeadline_names)\n",
    "bwAbstract       = (tfidf.fit_transform(combo_clean['Abstract'])).todense()\n",
    "bwAbstract_names = np.asarray(tfidf.get_feature_names())\n",
    "bwAbstract_names = np.core.defchararray.add('A_', bwAbstract_names)"
   ]
  },
  {
   "cell_type": "markdown",
   "metadata": {},
   "source": [
    "Put everything together"
   ]
  },
  {
   "cell_type": "code",
   "execution_count": 4,
   "metadata": {
    "collapsed": true
   },
   "outputs": [],
   "source": [
    "data = np.concatenate((categorical_dummies, bwHeadline, bwAbstract), axis=1)\n",
    "feature_names = np.concatenate((categorical_dummies.columns, bwHeadline_names, bwAbstract_names), axis=0)\n",
    "data_train = data[: train.shape[0],:]\n",
    "data_test  = data[train.shape[0]:,:]\n",
    "import sklearn.cross_validation as cv\n",
    "data_train, data_val, y_train, y_val = cv.train_test_split(data_train, y, test_size=.2, random_state=seed)"
   ]
  },
  {
   "cell_type": "markdown",
   "metadata": {},
   "source": [
    "## Feature selection"
   ]
  },
  {
   "cell_type": "code",
   "execution_count": 5,
   "metadata": {
    "collapsed": true
   },
   "outputs": [],
   "source": [
    "import sklearn.feature_selection as slct\n",
    "import sklearn.ensemble as ens\n",
    "import sklearn.grid_search as gr"
   ]
  },
  {
   "cell_type": "markdown",
   "metadata": {},
   "source": [
    "#### Univariate feature selection"
   ]
  },
  {
   "cell_type": "markdown",
   "metadata": {},
   "source": [
    "First, let's try feature selection for classification on `chi2` score. Cross-validation used is 5-fold stratified shuffled sampling that ensures every time cv is run the folds are different. We cross-validate for best # of features left that will yield highest AUC."
   ]
  },
  {
   "cell_type": "code",
   "execution_count": 66,
   "metadata": {
    "collapsed": false
   },
   "outputs": [],
   "source": [
    "cv_scores = []\n",
    "for k in np.linspace(30,1030, 21):\n",
    "    kbest_mod = slct.SelectKBest(slct.chi2, k=int(k))\n",
    "    kbest_mod.fit(data_train, y_train)\n",
    "    data_train_kbest = kbest_mod.transform(data_train)\n",
    "    rf_mod = ens.ExtraTreesClassifier(n_estimators=500, random_state=seed, n_jobs=-1,\n",
    "                                      bootstrap=True, class_weight='auto')\n",
    "    folds = cv.StratifiedShuffleSplit(y=y_train, n_iter=5, test_size=.2, random_state=seed)\n",
    "    cv_scores.append(cv.cross_val_score(rf_mod, data_train_kbest, y_train, scoring='roc_auc', cv=folds, n_jobs=-1))"
   ]
  },
  {
   "cell_type": "markdown",
   "metadata": {},
   "source": [
    "Then, the same is done on `f_classif`, which are actually F scores."
   ]
  },
  {
   "cell_type": "code",
   "execution_count": 67,
   "metadata": {
    "collapsed": false
   },
   "outputs": [
    {
     "name": "stderr",
     "output_type": "stream",
     "text": [
      "/home/sergey/anaconda3/lib/python3.4/site-packages/sklearn/feature_selection/univariate_selection.py:111: UserWarning: Features [ 247  256  257  442  883 1473 1528 1623 1714 1731 1732 2345 2405 2406 2454\n",
      " 2464 2547 2703 2819 3232] are constant.\n",
      "  UserWarning)\n",
      "/home/sergey/anaconda3/lib/python3.4/site-packages/sklearn/feature_selection/univariate_selection.py:111: UserWarning: Features [ 247  256  257  442  883 1473 1528 1623 1714 1731 1732 2345 2405 2406 2454\n",
      " 2464 2547 2703 2819 3232] are constant.\n",
      "  UserWarning)\n",
      "/home/sergey/anaconda3/lib/python3.4/site-packages/sklearn/feature_selection/univariate_selection.py:111: UserWarning: Features [ 247  256  257  442  883 1473 1528 1623 1714 1731 1732 2345 2405 2406 2454\n",
      " 2464 2547 2703 2819 3232] are constant.\n",
      "  UserWarning)\n",
      "/home/sergey/anaconda3/lib/python3.4/site-packages/sklearn/feature_selection/univariate_selection.py:111: UserWarning: Features [ 247  256  257  442  883 1473 1528 1623 1714 1731 1732 2345 2405 2406 2454\n",
      " 2464 2547 2703 2819 3232] are constant.\n",
      "  UserWarning)\n",
      "/home/sergey/anaconda3/lib/python3.4/site-packages/sklearn/feature_selection/univariate_selection.py:111: UserWarning: Features [ 247  256  257  442  883 1473 1528 1623 1714 1731 1732 2345 2405 2406 2454\n",
      " 2464 2547 2703 2819 3232] are constant.\n",
      "  UserWarning)\n",
      "/home/sergey/anaconda3/lib/python3.4/site-packages/sklearn/feature_selection/univariate_selection.py:111: UserWarning: Features [ 247  256  257  442  883 1473 1528 1623 1714 1731 1732 2345 2405 2406 2454\n",
      " 2464 2547 2703 2819 3232] are constant.\n",
      "  UserWarning)\n",
      "/home/sergey/anaconda3/lib/python3.4/site-packages/sklearn/feature_selection/univariate_selection.py:111: UserWarning: Features [ 247  256  257  442  883 1473 1528 1623 1714 1731 1732 2345 2405 2406 2454\n",
      " 2464 2547 2703 2819 3232] are constant.\n",
      "  UserWarning)\n",
      "/home/sergey/anaconda3/lib/python3.4/site-packages/sklearn/feature_selection/univariate_selection.py:111: UserWarning: Features [ 247  256  257  442  883 1473 1528 1623 1714 1731 1732 2345 2405 2406 2454\n",
      " 2464 2547 2703 2819 3232] are constant.\n",
      "  UserWarning)\n",
      "/home/sergey/anaconda3/lib/python3.4/site-packages/sklearn/feature_selection/univariate_selection.py:111: UserWarning: Features [ 247  256  257  442  883 1473 1528 1623 1714 1731 1732 2345 2405 2406 2454\n",
      " 2464 2547 2703 2819 3232] are constant.\n",
      "  UserWarning)\n",
      "/home/sergey/anaconda3/lib/python3.4/site-packages/sklearn/feature_selection/univariate_selection.py:111: UserWarning: Features [ 247  256  257  442  883 1473 1528 1623 1714 1731 1732 2345 2405 2406 2454\n",
      " 2464 2547 2703 2819 3232] are constant.\n",
      "  UserWarning)\n",
      "/home/sergey/anaconda3/lib/python3.4/site-packages/sklearn/feature_selection/univariate_selection.py:111: UserWarning: Features [ 247  256  257  442  883 1473 1528 1623 1714 1731 1732 2345 2405 2406 2454\n",
      " 2464 2547 2703 2819 3232] are constant.\n",
      "  UserWarning)\n",
      "/home/sergey/anaconda3/lib/python3.4/site-packages/sklearn/feature_selection/univariate_selection.py:111: UserWarning: Features [ 247  256  257  442  883 1473 1528 1623 1714 1731 1732 2345 2405 2406 2454\n",
      " 2464 2547 2703 2819 3232] are constant.\n",
      "  UserWarning)\n",
      "/home/sergey/anaconda3/lib/python3.4/site-packages/sklearn/feature_selection/univariate_selection.py:111: UserWarning: Features [ 247  256  257  442  883 1473 1528 1623 1714 1731 1732 2345 2405 2406 2454\n",
      " 2464 2547 2703 2819 3232] are constant.\n",
      "  UserWarning)\n",
      "/home/sergey/anaconda3/lib/python3.4/site-packages/sklearn/feature_selection/univariate_selection.py:111: UserWarning: Features [ 247  256  257  442  883 1473 1528 1623 1714 1731 1732 2345 2405 2406 2454\n",
      " 2464 2547 2703 2819 3232] are constant.\n",
      "  UserWarning)\n",
      "/home/sergey/anaconda3/lib/python3.4/site-packages/sklearn/feature_selection/univariate_selection.py:111: UserWarning: Features [ 247  256  257  442  883 1473 1528 1623 1714 1731 1732 2345 2405 2406 2454\n",
      " 2464 2547 2703 2819 3232] are constant.\n",
      "  UserWarning)\n",
      "/home/sergey/anaconda3/lib/python3.4/site-packages/sklearn/feature_selection/univariate_selection.py:111: UserWarning: Features [ 247  256  257  442  883 1473 1528 1623 1714 1731 1732 2345 2405 2406 2454\n",
      " 2464 2547 2703 2819 3232] are constant.\n",
      "  UserWarning)\n",
      "/home/sergey/anaconda3/lib/python3.4/site-packages/sklearn/feature_selection/univariate_selection.py:111: UserWarning: Features [ 247  256  257  442  883 1473 1528 1623 1714 1731 1732 2345 2405 2406 2454\n",
      " 2464 2547 2703 2819 3232] are constant.\n",
      "  UserWarning)\n",
      "/home/sergey/anaconda3/lib/python3.4/site-packages/sklearn/feature_selection/univariate_selection.py:111: UserWarning: Features [ 247  256  257  442  883 1473 1528 1623 1714 1731 1732 2345 2405 2406 2454\n",
      " 2464 2547 2703 2819 3232] are constant.\n",
      "  UserWarning)\n",
      "/home/sergey/anaconda3/lib/python3.4/site-packages/sklearn/feature_selection/univariate_selection.py:111: UserWarning: Features [ 247  256  257  442  883 1473 1528 1623 1714 1731 1732 2345 2405 2406 2454\n",
      " 2464 2547 2703 2819 3232] are constant.\n",
      "  UserWarning)\n",
      "/home/sergey/anaconda3/lib/python3.4/site-packages/sklearn/feature_selection/univariate_selection.py:111: UserWarning: Features [ 247  256  257  442  883 1473 1528 1623 1714 1731 1732 2345 2405 2406 2454\n",
      " 2464 2547 2703 2819 3232] are constant.\n",
      "  UserWarning)\n",
      "/home/sergey/anaconda3/lib/python3.4/site-packages/sklearn/feature_selection/univariate_selection.py:111: UserWarning: Features [ 247  256  257  442  883 1473 1528 1623 1714 1731 1732 2345 2405 2406 2454\n",
      " 2464 2547 2703 2819 3232] are constant.\n",
      "  UserWarning)\n"
     ]
    }
   ],
   "source": [
    "cv_scores_f = []\n",
    "for k in np.linspace(30,1030,21):\n",
    "    kbest_mod = slct.SelectKBest(slct.f_classif, k=int(k))\n",
    "    kbest_mod.fit(data_train, y_train)\n",
    "    data_train_kbest = kbest_mod.transform(data_train)\n",
    "    etc_mod = ens.ExtraTreesClassifier(n_estimators=500, random_state=seed, n_jobs=-1,\n",
    "                                      bootstrap=True, class_weight='auto')\n",
    "    folds = cv.StratifiedShuffleSplit(y=y_train, n_iter=5, test_size=.2, random_state=seed)\n",
    "    cv_scores_f.append(cv.cross_val_score(etc_mod, data_train_kbest, y_train, scoring='roc_auc', cv=3, n_jobs=-1))"
   ]
  },
  {
   "cell_type": "markdown",
   "metadata": {},
   "source": [
    "Let's calculate means and std's of cross-validated AUC's, which will be fed later to plots of the metrics."
   ]
  },
  {
   "cell_type": "code",
   "execution_count": 68,
   "metadata": {
    "collapsed": true
   },
   "outputs": [],
   "source": [
    "mean_chi = np.mean(cv_scores, axis=1)\n",
    "std_chi  = np.std(cv_scores, axis=1)\n",
    "mean_chi_lower = mean_chi - std_chi\n",
    "mean_chi_higher = mean_chi + std_chi"
   ]
  },
  {
   "cell_type": "code",
   "execution_count": 69,
   "metadata": {
    "collapsed": false
   },
   "outputs": [],
   "source": [
    "mean_f = np.mean(cv_scores_f, axis=1)\n",
    "std_f  = np.std(cv_scores_f, axis=1)\n",
    "mean_f_lower=mean_f - std_f\n",
    "mean_f_higher = mean_f + std_f"
   ]
  },
  {
   "cell_type": "markdown",
   "metadata": {},
   "source": [
    "Let's plot the performance of two selection methods."
   ]
  },
  {
   "cell_type": "code",
   "execution_count": 61,
   "metadata": {
    "collapsed": true
   },
   "outputs": [],
   "source": [
    "% matplotlib inline\n",
    "import matplotlib.pyplot as plt"
   ]
  },
  {
   "cell_type": "code",
   "execution_count": 79,
   "metadata": {
    "collapsed": false
   },
   "outputs": [
    {
     "data": {
      "image/png": "[encoded data removed]",
      "text/plain": [
       "<matplotlib.figure.Figure at 0x7f3ea0aede80>"
      ]
     },
     "metadata": {},
     "output_type": "display_data"
    }
   ],
   "source": [
    "plt.figure(figsize=(18,5))\n",
    "plt.subplot(1,3,1)\n",
    "plt.plot(mean_f, 'b', label = 'f')\n",
    "plt.fill_between(np.arange(len(mean_f)), mean_f_higher, mean_f_lower, alpha=.2)\n",
    "plt.plot(mean_chi, 'r', label = 'chi')\n",
    "plt.fill_between(np.arange(len(mean_chi)),mean_chi_higher, mean_chi_lower, color='r', alpha=.2)\n",
    "plt.legend()\n",
    "plt.grid()\n",
    "plt.subplot(1,3,2)\n",
    "plt.plot(mean_f, 'b', label = 'f')\n",
    "plt.fill_between(np.arange(len(mean_f)), mean_f_higher, mean_f_lower, alpha=.2)\n",
    "plt.legend()\n",
    "plt.grid()\n",
    "plt.subplot(1,3,3)\n",
    "plt.plot(mean_chi, 'r', label = 'chi')\n",
    "plt.fill_between(np.arange(len(mean_chi)),mean_chi_higher, mean_chi_lower, color='r', alpha=.2)\n",
    "plt.legend()\n",
    "plt.grid()\n",
    "plt.show()"
   ]
  },
  {
   "cell_type": "markdown",
   "metadata": {},
   "source": [
    "Feature selection on `chi2` score with 1030 features left appears to be the best model on training set."
   ]
  },
  {
   "cell_type": "markdown",
   "metadata": {},
   "source": [
    "## Validate on held-out set"
   ]
  },
  {
   "cell_type": "markdown",
   "metadata": {},
   "source": [
    "Validation on `ExtraTreesClassifier`"
   ]
  },
  {
   "cell_type": "code",
   "execution_count": 81,
   "metadata": {
    "collapsed": false
   },
   "outputs": [
    {
     "data": {
      "text/plain": [
       "ExtraTreesClassifier(bootstrap=True, class_weight='auto', criterion='gini',\n",
       "           max_depth=None, max_features='auto', max_leaf_nodes=None,\n",
       "           min_samples_leaf=1, min_samples_split=2,\n",
       "           min_weight_fraction_leaf=0.0, n_estimators=3000, n_jobs=-1,\n",
       "           oob_score=False, random_state=1, verbose=0, warm_start=False)"
      ]
     },
     "execution_count": 81,
     "metadata": {},
     "output_type": "execute_result"
    }
   ],
   "source": [
    "kbest_mod = slct.SelectKBest(slct.chi2, k=1030)\n",
    "kbest_mod.fit(data_train, y_train)\n",
    "data_train_kbest = kbest_mod.transform(data_train)\n",
    "data_val_kbest = kbest_mod.transform(data_val)\n",
    "\n",
    "etc_mod = ens.ExtraTreesClassifier(n_estimators=3000, random_state=seed, n_jobs=-1,\n",
    "                                      bootstrap=True, class_weight='auto')\n",
    "etc_mod.fit(data_train_kbest, y_train)"
   ]
  },
  {
   "cell_type": "code",
   "execution_count": 82,
   "metadata": {
    "collapsed": false
   },
   "outputs": [
    {
     "data": {
      "text/plain": [
       "0.90528396516027709"
      ]
     },
     "execution_count": 82,
     "metadata": {},
     "output_type": "execute_result"
    }
   ],
   "source": [
    "import sklearn.metrics as mts\n",
    "mts.roc_auc_score(y_val, etc_mod.predict_proba(data_val_kbest)[:,1])"
   ]
  },
  {
   "cell_type": "markdown",
   "metadata": {},
   "source": [
    "Validation on `RandomForestClassifier`"
   ]
  },
  {
   "cell_type": "code",
   "execution_count": 85,
   "metadata": {
    "collapsed": false
   },
   "outputs": [
    {
     "data": {
      "text/plain": [
       "RandomForestClassifier(bootstrap=True, class_weight='auto', criterion='gini',\n",
       "            max_depth=None, max_features='auto', max_leaf_nodes=None,\n",
       "            min_samples_leaf=1, min_samples_split=2,\n",
       "            min_weight_fraction_leaf=0.0, n_estimators=3000, n_jobs=-1,\n",
       "            oob_score=False, random_state=1, verbose=0, warm_start=False)"
      ]
     },
     "execution_count": 85,
     "metadata": {},
     "output_type": "execute_result"
    }
   ],
   "source": [
    "kbest_mod = slct.SelectKBest(slct.chi2, k=1030)\n",
    "kbest_mod.fit(data_train, y_train)\n",
    "data_train_kbest = kbest_mod.transform(data_train)\n",
    "data_val_kbest = kbest_mod.transform(data_val)\n",
    "\n",
    "rf_mod = ens.RandomForestClassifier(n_estimators=3000, random_state=seed, n_jobs=-1,\n",
    "                                      bootstrap=True, class_weight='auto')\n",
    "rf_mod.fit(data_train_kbest, y_train)"
   ]
  },
  {
   "cell_type": "code",
   "execution_count": 86,
   "metadata": {
    "collapsed": false
   },
   "outputs": [
    {
     "data": {
      "text/plain": [
       "0.90412829299635888"
      ]
     },
     "execution_count": 86,
     "metadata": {},
     "output_type": "execute_result"
    }
   ],
   "source": [
    "import sklearn.metrics as mts\n",
    "mts.roc_auc_score(y_val, rf_mod.predict_proba(data_val_kbest)[:,1])"
   ]
  },
  {
   "cell_type": "markdown",
   "metadata": {},
   "source": [
    "## Summary"
   ]
  },
  {
   "cell_type": "markdown",
   "metadata": {},
   "source": [
    "That was the first step in feature selection exercise: univariate feature selection on chi2 and f_classif (F score).  \n",
    "\n",
    "After cross-vaidation, the best model seem to be that with 1030 features.  \n",
    "\n",
    "For such a model, AUC validated on held-out set decreased from 0.92616 to 0.90528 for ExtraTreesClassifier and 0.90412 for RandomForestClassifier (both on 1030 features)"
   ]
  }
 ],
 "metadata": {
  "kernelspec": {
   "display_name": "Python 3",
   "language": "python",
   "name": "python3"
  },
  "language_info": {
   "codemirror_mode": {
    "name": "ipython",
    "version": 3
   },
   "file_extension": ".py",
   "mimetype": "text/x-python",
   "name": "python",
   "nbconvert_exporter": "python",
   "pygments_lexer": "ipython3",
   "version": "3.4.3"
  }
 },
 "nbformat": 4,
 "nbformat_minor": 0
}
