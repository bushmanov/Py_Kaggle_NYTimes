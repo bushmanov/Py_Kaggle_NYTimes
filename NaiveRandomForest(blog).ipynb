{
 "cells": [
  {
   "cell_type": "markdown",
   "metadata": {},
   "source": [
    "This exercise is about predicting 'popularity' of post on NYTimes website.\n",
    "A 'popular' defined as a post with 20 or more comments.\n",
    "The data consists of 8402 entries altogether for training and testings sets.\n",
    "The fields are:\n",
    "- NewsDesk = the New York Times desk that produced the story (Business, Culture, Foreign, etc.)\n",
    "- SectionName = the section the article appeared in (Opinion, Arts, Technology, etc.)\n",
    "- SubsectionName = the subsection the article appeared in (Education, Small Business, Room for Debate, etc.)\n",
    "- Headline = the title of the article\n",
    "- Snippet = a small portion of the article text\n",
    "- Abstract = a summary of the blog article, written by the New York Times\n",
    "- WordCount = the number of words in the article\n",
    "- PubDate = the publication date\n",
    "- UniqueID = a unique identifier for each article\n",
    "\n",
    "The plan is to use Pyhon's sklearn package to build several classifiers (Random Forest, Gradient Boosting Classifier, Logistic Regression) while exploring effectiveness of different approaches to feature selection and model regularization.\n",
    "\n",
    "The first attempt, described in this post, will build naïve Random Forest classifier built upon the following features:\n",
    "- NewsDesk, SectionName, SubsectionName\n",
    "- Bag of uni- and bi-grams extracted from Headline and Abstract\n",
    "- Part of day (morning, afternoon, evening etc) and day of week extracted from PubDate.\n",
    "\n",
    "The approach is 'naïve' because no feature filtering whatsoever is employed: just about 3'500 features are thrown at Random Forest without tuning hyperparameters, the model is trained on ~ 5200 cases, and then checked on 1'307 validation held-out set.\n",
    "\n",
    "The performance of this model will be used later as a benchmark when more sophisticated models are developed.\n",
    "\n",
    "The main purpose of the project is to:\n",
    "- find model with best cross-validated AUC score on train set\n",
    "- that generalizes well to held-out set\n",
    "- with no humane intervention in the process of feature creation, i.e. pure unsupervised feature creation, feature selection, and model selection."
   ]
  },
  {
   "cell_type": "markdown",
   "metadata": {},
   "source": [
    "## Load Data"
   ]
  },
  {
   "cell_type": "code",
   "execution_count": 1,
   "metadata": {
    "collapsed": false
   },
   "outputs": [],
   "source": [
    "import numpy as np\n",
    "import pandas as pd"
   ]
  },
  {
   "cell_type": "code",
   "execution_count": 2,
   "metadata": {
    "collapsed": true
   },
   "outputs": [],
   "source": [
    "seed = 1"
   ]
  },
  {
   "cell_type": "code",
   "execution_count": 3,
   "metadata": {
    "collapsed": true
   },
   "outputs": [],
   "source": [
    "train = pd.read_csv('/home/sergey/R_Analyttics_Edge_MITx/kaggle/NYTimesBlogTrain.csv')\n",
    "test = pd.read_csv('/home/sergey/R_Analyttics_Edge_MITx/kaggle/NYTimesBlogTest.csv')"
   ]
  },
  {
   "cell_type": "code",
   "execution_count": 4,
   "metadata": {
    "collapsed": false
   },
   "outputs": [],
   "source": [
    "combo = pd.merge(train, test, how='outer')\n",
    "combo = combo.drop('Popular', axis=1)\n",
    "y = train['Popular']"
   ]
  },
  {
   "cell_type": "code",
   "execution_count": 5,
   "metadata": {
    "collapsed": false
   },
   "outputs": [
    {
     "name": "stdout",
     "output_type": "stream",
     "text": [
      "(6532, 10)\n",
      "(6532,)\n",
      "(1870, 9)\n",
      "(8402, 9)\n"
     ]
    }
   ],
   "source": [
    "print(train.shape)\n",
    "print(y.shape)\n",
    "print(test.shape)\n",
    "print(combo.shape)"
   ]
  },
  {
   "cell_type": "code",
   "execution_count": 6,
   "metadata": {
    "collapsed": false
   },
   "outputs": [
    {
     "data": {
      "text/html": [
       "<div style=\"max-height:1000px;max-width:1500px;overflow:auto;\">\n",
       "<table border=\"1\" class=\"dataframe\">\n",
       "  <thead>\n",
       "    <tr style=\"text-align: right;\">\n",
       "      <th></th>\n",
       "      <th>NewsDesk</th>\n",
       "      <th>SectionName</th>\n",
       "      <th>SubsectionName</th>\n",
       "      <th>Headline</th>\n",
       "      <th>Snippet</th>\n",
       "      <th>Abstract</th>\n",
       "      <th>WordCount</th>\n",
       "      <th>PubDate</th>\n",
       "      <th>UniqueID</th>\n",
       "    </tr>\n",
       "  </thead>\n",
       "  <tbody>\n",
       "    <tr>\n",
       "      <th>0</th>\n",
       "      <td>Business</td>\n",
       "      <td>Crosswords/Games</td>\n",
       "      <td>NaN</td>\n",
       "      <td>More School Daze</td>\n",
       "      <td>A puzzle from Ethan Cooper that reminds me tha...</td>\n",
       "      <td>A puzzle from Ethan Cooper that reminds me tha...</td>\n",
       "      <td>508</td>\n",
       "      <td>2014-09-01 22:00:09</td>\n",
       "      <td>1</td>\n",
       "    </tr>\n",
       "    <tr>\n",
       "      <th>1</th>\n",
       "      <td>Culture</td>\n",
       "      <td>Arts</td>\n",
       "      <td>NaN</td>\n",
       "      <td>New 96-Page Murakami Work Coming in December</td>\n",
       "      <td>The Strange Library will arrive just three and...</td>\n",
       "      <td>The Strange Library will arrive just three and...</td>\n",
       "      <td>285</td>\n",
       "      <td>2014-09-01 21:14:07</td>\n",
       "      <td>2</td>\n",
       "    </tr>\n",
       "    <tr>\n",
       "      <th>2</th>\n",
       "      <td>Business</td>\n",
       "      <td>Business Day</td>\n",
       "      <td>Dealbook</td>\n",
       "      <td>Public Pension Funds Stay Mum on Corporate Expats</td>\n",
       "      <td>Public pension funds have major stakes in Amer...</td>\n",
       "      <td>Public pension funds have major stakes in Amer...</td>\n",
       "      <td>1211</td>\n",
       "      <td>2014-09-01 21:05:36</td>\n",
       "      <td>3</td>\n",
       "    </tr>\n",
       "  </tbody>\n",
       "</table>\n",
       "</div>"
      ],
      "text/plain": [
       "   NewsDesk       SectionName SubsectionName  \\\n",
       "0  Business  Crosswords/Games            NaN   \n",
       "1   Culture              Arts            NaN   \n",
       "2  Business      Business Day       Dealbook   \n",
       "\n",
       "                                            Headline  \\\n",
       "0                                   More School Daze   \n",
       "1       New 96-Page Murakami Work Coming in December   \n",
       "2  Public Pension Funds Stay Mum on Corporate Expats   \n",
       "\n",
       "                                             Snippet  \\\n",
       "0  A puzzle from Ethan Cooper that reminds me tha...   \n",
       "1  The Strange Library will arrive just three and...   \n",
       "2  Public pension funds have major stakes in Amer...   \n",
       "\n",
       "                                            Abstract  WordCount  \\\n",
       "0  A puzzle from Ethan Cooper that reminds me tha...        508   \n",
       "1  The Strange Library will arrive just three and...        285   \n",
       "2  Public pension funds have major stakes in Amer...       1211   \n",
       "\n",
       "               PubDate  UniqueID  \n",
       "0  2014-09-01 22:00:09         1  \n",
       "1  2014-09-01 21:14:07         2  \n",
       "2  2014-09-01 21:05:36         3  "
      ]
     },
     "execution_count": 6,
     "metadata": {},
     "output_type": "execute_result"
    }
   ],
   "source": [
    "combo.head(3)"
   ]
  },
  {
   "cell_type": "markdown",
   "metadata": {},
   "source": [
    "## Data preprocessing:\n",
    "- NaN --> \"empty\"\n",
    "- WordCount --> log(Wordcount)\n",
    "- PubDate --> Weekday and time\n",
    "- Time --> bins "
   ]
  },
  {
   "cell_type": "code",
   "execution_count": 7,
   "metadata": {
    "collapsed": true
   },
   "outputs": [],
   "source": [
    "combo_clean = combo.fillna('empty')"
   ]
  },
  {
   "cell_type": "markdown",
   "metadata": {},
   "source": [
    "WordCount needs to be log-transformed because the distribution of counts is heavily right-skewed."
   ]
  },
  {
   "cell_type": "code",
   "execution_count": 8,
   "metadata": {
    "collapsed": true
   },
   "outputs": [],
   "source": [
    "combo_clean['LogWC'] = np.log(.1+ combo_clean['WordCount'])"
   ]
  },
  {
   "cell_type": "code",
   "execution_count": 9,
   "metadata": {
    "collapsed": false
   },
   "outputs": [
    {
     "data": {
      "image/png": "[encoded data removed]",
      "text/plain": [
       "<matplotlib.figure.Figure at 0x7fbec3d57a90>"
      ]
     },
     "metadata": {},
     "output_type": "display_data"
    }
   ],
   "source": [
    "% matplotlib inline\n",
    "import matplotlib.pyplot as plt\n",
    "plt.subplot(1,2,1)\n",
    "combo_clean['WordCount'].plot(kind='kde', title='Wordcount', xlim=[-10,3000])\n",
    "plt.subplot(1,2,2)\n",
    "combo_clean['LogWC'].plot(kind='kde', title='Log(.1 + WordCount)')\n",
    "plt.show()"
   ]
  },
  {
   "cell_type": "code",
   "execution_count": 10,
   "metadata": {
    "collapsed": false
   },
   "outputs": [
    {
     "data": {
      "text/plain": [
       "'2014-09-01 22:00:09'"
      ]
     },
     "execution_count": 10,
     "metadata": {},
     "output_type": "execute_result"
    }
   ],
   "source": [
    "combo_clean['PubDate'][0]"
   ]
  },
  {
   "cell_type": "code",
   "execution_count": 11,
   "metadata": {
    "collapsed": false
   },
   "outputs": [
    {
     "data": {
      "text/html": [
       "<div style=\"max-height:1000px;max-width:1500px;overflow:auto;\">\n",
       "<table border=\"1\" class=\"dataframe\">\n",
       "  <thead>\n",
       "    <tr style=\"text-align: right;\">\n",
       "      <th></th>\n",
       "      <th>PubDate</th>\n",
       "      <th>date</th>\n",
       "      <th>hour</th>\n",
       "    </tr>\n",
       "  </thead>\n",
       "  <tbody>\n",
       "    <tr>\n",
       "      <th>1</th>\n",
       "      <td>2014-09-01 21:14:07</td>\n",
       "      <td>Monday</td>\n",
       "      <td>21</td>\n",
       "    </tr>\n",
       "    <tr>\n",
       "      <th>2</th>\n",
       "      <td>2014-09-01 21:05:36</td>\n",
       "      <td>Monday</td>\n",
       "      <td>21</td>\n",
       "    </tr>\n",
       "    <tr>\n",
       "      <th>3</th>\n",
       "      <td>2014-09-01 20:43:34</td>\n",
       "      <td>Monday</td>\n",
       "      <td>20</td>\n",
       "    </tr>\n",
       "    <tr>\n",
       "      <th>4</th>\n",
       "      <td>2014-09-01 18:58:51</td>\n",
       "      <td>Monday</td>\n",
       "      <td>18</td>\n",
       "    </tr>\n",
       "  </tbody>\n",
       "</table>\n",
       "</div>"
      ],
      "text/plain": [
       "               PubDate    date  hour\n",
       "1  2014-09-01 21:14:07  Monday    21\n",
       "2  2014-09-01 21:05:36  Monday    21\n",
       "3  2014-09-01 20:43:34  Monday    20\n",
       "4  2014-09-01 18:58:51  Monday    18"
      ]
     },
     "execution_count": 11,
     "metadata": {},
     "output_type": "execute_result"
    }
   ],
   "source": [
    "import datetime as dt\n",
    "combo_clean['date'] = combo_clean['PubDate'].apply(\n",
    "    lambda x: dt.datetime.strptime(x, '%Y-%m-%d %H:%M:%S').strftime('%A')\n",
    ")\n",
    "combo_clean['hour'] = combo_clean['PubDate'].apply(\n",
    "    lambda x: int(dt.datetime.strptime(x, '%Y-%m-%d %H:%M:%S').strftime('%H'))\n",
    ")\n",
    "combo_clean[['PubDate','date','hour']][1:5]"
   ]
  },
  {
   "cell_type": "code",
   "execution_count": 12,
   "metadata": {
    "collapsed": true
   },
   "outputs": [],
   "source": [
    "bins = np.linspace(0,24,5)\n",
    "labels = ['night', 'morning', 'afternoon', 'evening']\n",
    "combo_clean['hour_bins'] = pd.cut(combo_clean['hour'], bins=bins, labels=labels)"
   ]
  },
  {
   "cell_type": "code",
   "execution_count": 13,
   "metadata": {
    "collapsed": false
   },
   "outputs": [],
   "source": [
    "combo_clean.drop(['hour', 'WordCount', 'PubDate'], axis=1, inplace=True)"
   ]
  },
  {
   "cell_type": "code",
   "execution_count": 14,
   "metadata": {
    "collapsed": false
   },
   "outputs": [
    {
     "data": {
      "text/html": [
       "<div style=\"max-height:1000px;max-width:1500px;overflow:auto;\">\n",
       "<table border=\"1\" class=\"dataframe\">\n",
       "  <thead>\n",
       "    <tr style=\"text-align: right;\">\n",
       "      <th></th>\n",
       "      <th>NewsDesk</th>\n",
       "      <th>SectionName</th>\n",
       "      <th>SubsectionName</th>\n",
       "      <th>Headline</th>\n",
       "      <th>Snippet</th>\n",
       "      <th>Abstract</th>\n",
       "      <th>UniqueID</th>\n",
       "      <th>LogWC</th>\n",
       "      <th>date</th>\n",
       "      <th>hour_bins</th>\n",
       "    </tr>\n",
       "  </thead>\n",
       "  <tbody>\n",
       "    <tr>\n",
       "      <th>0</th>\n",
       "      <td>Business</td>\n",
       "      <td>Crosswords/Games</td>\n",
       "      <td>empty</td>\n",
       "      <td>More School Daze</td>\n",
       "      <td>A puzzle from Ethan Cooper that reminds me tha...</td>\n",
       "      <td>A puzzle from Ethan Cooper that reminds me tha...</td>\n",
       "      <td>1</td>\n",
       "      <td>6.230678</td>\n",
       "      <td>Monday</td>\n",
       "      <td>evening</td>\n",
       "    </tr>\n",
       "    <tr>\n",
       "      <th>1</th>\n",
       "      <td>Culture</td>\n",
       "      <td>Arts</td>\n",
       "      <td>empty</td>\n",
       "      <td>New 96-Page Murakami Work Coming in December</td>\n",
       "      <td>The Strange Library will arrive just three and...</td>\n",
       "      <td>The Strange Library will arrive just three and...</td>\n",
       "      <td>2</td>\n",
       "      <td>5.652840</td>\n",
       "      <td>Monday</td>\n",
       "      <td>evening</td>\n",
       "    </tr>\n",
       "    <tr>\n",
       "      <th>2</th>\n",
       "      <td>Business</td>\n",
       "      <td>Business Day</td>\n",
       "      <td>Dealbook</td>\n",
       "      <td>Public Pension Funds Stay Mum on Corporate Expats</td>\n",
       "      <td>Public pension funds have major stakes in Amer...</td>\n",
       "      <td>Public pension funds have major stakes in Amer...</td>\n",
       "      <td>3</td>\n",
       "      <td>7.099284</td>\n",
       "      <td>Monday</td>\n",
       "      <td>evening</td>\n",
       "    </tr>\n",
       "  </tbody>\n",
       "</table>\n",
       "</div>"
      ],
      "text/plain": [
       "   NewsDesk       SectionName SubsectionName  \\\n",
       "0  Business  Crosswords/Games          empty   \n",
       "1   Culture              Arts          empty   \n",
       "2  Business      Business Day       Dealbook   \n",
       "\n",
       "                                            Headline  \\\n",
       "0                                   More School Daze   \n",
       "1       New 96-Page Murakami Work Coming in December   \n",
       "2  Public Pension Funds Stay Mum on Corporate Expats   \n",
       "\n",
       "                                             Snippet  \\\n",
       "0  A puzzle from Ethan Cooper that reminds me tha...   \n",
       "1  The Strange Library will arrive just three and...   \n",
       "2  Public pension funds have major stakes in Amer...   \n",
       "\n",
       "                                            Abstract  UniqueID     LogWC  \\\n",
       "0  A puzzle from Ethan Cooper that reminds me tha...         1  6.230678   \n",
       "1  The Strange Library will arrive just three and...         2  5.652840   \n",
       "2  Public pension funds have major stakes in Amer...         3  7.099284   \n",
       "\n",
       "     date hour_bins  \n",
       "0  Monday   evening  \n",
       "1  Monday   evening  \n",
       "2  Monday   evening  "
      ]
     },
     "execution_count": 14,
     "metadata": {},
     "output_type": "execute_result"
    }
   ],
   "source": [
    "combo_clean.head(3)"
   ]
  },
  {
   "cell_type": "markdown",
   "metadata": {},
   "source": [
    "## Feature creation\n",
    "- Dummify categorical features\n",
    "- Make bag of words out of Headline and Abstract"
   ]
  },
  {
   "cell_type": "code",
   "execution_count": 15,
   "metadata": {
    "collapsed": false
   },
   "outputs": [
    {
     "data": {
      "text/plain": [
       "(8402, 49)"
      ]
     },
     "execution_count": 15,
     "metadata": {},
     "output_type": "execute_result"
    }
   ],
   "source": [
    "categorical_dummies = pd.get_dummies(combo_clean[['NewsDesk','SectionName','SubsectionName','date', 'hour_bins']])\n",
    "categorical_dummies.shape"
   ]
  },
  {
   "cell_type": "code",
   "execution_count": 16,
   "metadata": {
    "collapsed": true
   },
   "outputs": [],
   "source": [
    "import sklearn.feature_extraction.text as txt"
   ]
  },
  {
   "cell_type": "code",
   "execution_count": 17,
   "metadata": {
    "collapsed": false
   },
   "outputs": [
    {
     "data": {
      "text/plain": [
       "TfidfVectorizer(analyzer='word', binary=False, decode_error='strict',\n",
       "        dtype=<class 'numpy.int64'>, encoding='utf-8', input='content',\n",
       "        lowercase=True, max_df=1.0, max_features=None, min_df=10,\n",
       "        ngram_range=(1, 2), norm='l2', preprocessor=None, smooth_idf=True,\n",
       "        stop_words='english', strip_accents=None, sublinear_tf=False,\n",
       "        token_pattern='(?u)\\\\b\\\\w\\\\w+\\\\b', tokenizer=None, use_idf=True,\n",
       "        vocabulary=None)"
      ]
     },
     "execution_count": 17,
     "metadata": {},
     "output_type": "execute_result"
    }
   ],
   "source": [
    "tfidf = txt.TfidfVectorizer(stop_words='english', min_df=10, ngram_range=(1, 2),)\n",
    "tfidf"
   ]
  },
  {
   "cell_type": "code",
   "execution_count": 18,
   "metadata": {
    "collapsed": false
   },
   "outputs": [
    {
     "name": "stdout",
     "output_type": "stream",
     "text": [
      "(8402, 943)\n",
      "(943,)\n"
     ]
    }
   ],
   "source": [
    "bwHeadline       = (tfidf.fit_transform(combo_clean['Headline'])).todense()\n",
    "bwHeadline_names = np.asarray(tfidf.get_feature_names())\n",
    "bwHeadline_names = np.core.defchararray.add('H_', bwHeadline_names)\n",
    "print(bwHeadline.shape)\n",
    "print(bwHeadline_names.shape)"
   ]
  },
  {
   "cell_type": "code",
   "execution_count": 19,
   "metadata": {
    "collapsed": false
   },
   "outputs": [
    {
     "name": "stdout",
     "output_type": "stream",
     "text": [
      "(8402, 2480)\n",
      "(2480,)\n"
     ]
    }
   ],
   "source": [
    "bwAbstract       = (tfidf.fit_transform(combo_clean['Abstract'])).todense()\n",
    "bwAbstract_names = np.asarray(tfidf.get_feature_names())\n",
    "bwAbstract_names = np.core.defchararray.add('A_', bwAbstract_names)\n",
    "print(bwAbstract.shape)\n",
    "print(bwAbstract_names.shape)"
   ]
  },
  {
   "cell_type": "markdown",
   "metadata": {},
   "source": [
    "Put everything togeher"
   ]
  },
  {
   "cell_type": "code",
   "execution_count": 20,
   "metadata": {
    "collapsed": false
   },
   "outputs": [
    {
     "data": {
      "text/plain": [
       "(8402, 3472)"
      ]
     },
     "execution_count": 20,
     "metadata": {},
     "output_type": "execute_result"
    }
   ],
   "source": [
    "data = np.concatenate((categorical_dummies, bwHeadline, bwAbstract), axis=1)\n",
    "data.shape"
   ]
  },
  {
   "cell_type": "code",
   "execution_count": 44,
   "metadata": {
    "collapsed": false,
    "scrolled": true
   },
   "outputs": [
    {
     "data": {
      "text/plain": [
       "(3472,)"
      ]
     },
     "execution_count": 44,
     "metadata": {},
     "output_type": "execute_result"
    }
   ],
   "source": [
    "feature_names = np.concatenate((categorical_dummies.columns, bwHeadline_names, bwAbstract_names), axis=0)\n",
    "feature_names.shape"
   ]
  },
  {
   "cell_type": "markdown",
   "metadata": {},
   "source": [
    "Make 5 sets:\n",
    "- data_test : this is where predictions are made and submitted\n",
    "- data_train: this is where the hyperparameters are tuned via CV (80% ofthe original train set)\n",
    "- y_train   : labels for data_train\n",
    "- data_val  : this is data unseen for trained model to check generalization ability (20%)\n",
    "- y_val     : labels for data_val"
   ]
  },
  {
   "cell_type": "code",
   "execution_count": 104,
   "metadata": {
    "collapsed": true
   },
   "outputs": [],
   "source": [
    "data_train = data[: train.shape[0],:]\n",
    "data_test  = data[train.shape[0]:,:]"
   ]
  },
  {
   "cell_type": "code",
   "execution_count": 105,
   "metadata": {
    "collapsed": true
   },
   "outputs": [],
   "source": [
    "import sklearn.cross_validation as cv"
   ]
  },
  {
   "cell_type": "code",
   "execution_count": 106,
   "metadata": {
    "collapsed": false
   },
   "outputs": [],
   "source": [
    "data_train, data_val, y_train, y_val = cv.train_test_split(data_train, y, test_size=.2, random_state=seed)"
   ]
  },
  {
   "cell_type": "code",
   "execution_count": 115,
   "metadata": {
    "collapsed": false
   },
   "outputs": [
    {
     "name": "stdout",
     "output_type": "stream",
     "text": [
      "(5225, 3472)\n",
      "(1307, 3472)\n",
      "(1307,)\n"
     ]
    }
   ],
   "source": [
    "print(data_train.shape)\n",
    "print(data_val.shape)\n",
    "print(y_val.shape)"
   ]
  },
  {
   "cell_type": "markdown",
   "metadata": {},
   "source": [
    "## Feature importance"
   ]
  },
  {
   "cell_type": "markdown",
   "metadata": {},
   "source": [
    "The idea is to grow many trees and average feature importance over those trees. To further guard against overfitting, let's use sklearn.ExtraTreesClassifier, which is a modified version of Random Forest. ExtraTreesClassifier, in addition to randomly selecting features at each split, randomizes samples over which it trains model. "
   ]
  },
  {
   "cell_type": "code",
   "execution_count": 107,
   "metadata": {
    "collapsed": false
   },
   "outputs": [],
   "source": [
    "import sklearn.ensemble as ens\n",
    "rf = ens.ExtraTreesClassifier(n_estimators=3000, random_state=seed, n_jobs=-1, bootstrap=True, class_weight='auto')"
   ]
  },
  {
   "cell_type": "code",
   "execution_count": 108,
   "metadata": {
    "collapsed": false
   },
   "outputs": [
    {
     "data": {
      "text/plain": [
       "ExtraTreesClassifier(bootstrap=True, class_weight='auto', criterion='gini',\n",
       "           max_depth=None, max_features='auto', max_leaf_nodes=None,\n",
       "           min_samples_leaf=1, min_samples_split=2,\n",
       "           min_weight_fraction_leaf=0.0, n_estimators=3000, n_jobs=-1,\n",
       "           oob_score=False, random_state=1, verbose=0, warm_start=False)"
      ]
     },
     "execution_count": 108,
     "metadata": {},
     "output_type": "execute_result"
    }
   ],
   "source": [
    "rf.fit(data_train, y_train)"
   ]
  },
  {
   "cell_type": "code",
   "execution_count": 75,
   "metadata": {
    "collapsed": false
   },
   "outputs": [],
   "source": [
    "importance = np.mean([tree.feature_importances_ for tree in rf.estimators_],axis=0)\n",
    "std = np.std([tree.feature_importances_ for tree in rf.estimators_],axis=0)\n",
    "ind = np.argsort(importance)[-30:]"
   ]
  },
  {
   "cell_type": "code",
   "execution_count": 76,
   "metadata": {
    "collapsed": false
   },
   "outputs": [
    {
     "data": {
      "image/png": "[encoded data removed]",
      "text/plain": [
       "<matplotlib.figure.Figure at 0x7fbe99316ef0>"
      ]
     },
     "metadata": {},
     "output_type": "display_data"
    }
   ],
   "source": [
    "plt.figure(figsize=(15,15))\n",
    "plt.title(\"Feature Importances for 'Randomized' Random Forest (10'000 trees)\")\n",
    "plt.barh(range(30),importance[ind],\n",
    "       color=\"r\", xerr=std[ind], alpha=0.4, align=\"center\")\n",
    "plt.yticks(range(30), feature_names[ind])\n",
    "plt.ylim([-1, len(ind)])\n",
    "plt.show()"
   ]
  },
  {
   "cell_type": "markdown",
   "metadata": {},
   "source": [
    "The conclusions so far are not that reassuring: feature importance averaged over 3'000 trees grown tells that there are few strong, consistent predictors. From this graph, the only significant predictor is time when the post is published, which makes sense."
   ]
  },
  {
   "cell_type": "markdown",
   "metadata": {},
   "source": [
    "## Learning curves"
   ]
  },
  {
   "cell_type": "markdown",
   "metadata": {},
   "source": [
    "Learning curves allow to distinguish between models dominated by strong bias or strong variance, thus laying down a roadmap whether the model should be relaxed (made more flexible) or, to the contrary, regularized (made more rigid)."
   ]
  },
  {
   "cell_type": "code",
   "execution_count": 78,
   "metadata": {
    "collapsed": true
   },
   "outputs": [],
   "source": [
    "import sklearn.learning_curve as lc"
   ]
  },
  {
   "cell_type": "code",
   "execution_count": 94,
   "metadata": {
    "collapsed": false
   },
   "outputs": [],
   "source": [
    "train_size, train_scores, test_scores = lc.learning_curve(rf, data_train, y_train, \n",
    "                                                          train_sizes=np.linspace(0.1,1.0,5),\n",
    "                                                          cv=10, scoring='roc_auc',\n",
    "                                                          exploit_incremental_learning=False, n_jobs=-1)"
   ]
  },
  {
   "cell_type": "code",
   "execution_count": 99,
   "metadata": {
    "collapsed": false
   },
   "outputs": [
    {
     "data": {
      "text/plain": [
       "array([ 470, 1528, 2586, 3644, 4702])"
      ]
     },
     "execution_count": 99,
     "metadata": {},
     "output_type": "execute_result"
    }
   ],
   "source": [
    "train_size"
   ]
  },
  {
   "cell_type": "code",
   "execution_count": 95,
   "metadata": {
    "collapsed": true
   },
   "outputs": [],
   "source": [
    "mean_train  = train_scores.mean(axis=1)\n",
    "sd_train    = train_scores.std(axis=1)\n",
    "upper_train = mean_train + sd_train\n",
    "lower_train = mean_train - sd_train"
   ]
  },
  {
   "cell_type": "code",
   "execution_count": 96,
   "metadata": {
    "collapsed": true
   },
   "outputs": [],
   "source": [
    "mean_test   = test_scores.mean(axis=1)\n",
    "sd_test     = test_scores.std(axis=1)\n",
    "upper_test  = mean_test + sd_test\n",
    "lower_test  = mean_test - sd_test"
   ]
  },
  {
   "cell_type": "code",
   "execution_count": 97,
   "metadata": {
    "collapsed": false,
    "scrolled": false
   },
   "outputs": [
    {
     "data": {
      "image/png": "[encoded data removed]",
      "text/plain": [
       "<matplotlib.figure.Figure at 0x7fbe9450e358>"
      ]
     },
     "metadata": {},
     "output_type": "display_data"
    }
   ],
   "source": [
    "plt.plot(train_size, mean_train,'ro-', label='Training')\n",
    "plt.fill_between(train_size, upper_train, lower_train, alpha=0.1, color='r')\n",
    "plt.plot(train_size, mean_test,'bo-', label='Cross-validation')\n",
    "plt.fill_between(train_size, upper_test, lower_test, alpha=0.1, color='b')\n",
    "plt.title(\"Learning curve on RF with 3'000 n_trees\")\n",
    "plt.grid()\n",
    "plt.xlabel('sample size') \n",
    "plt.ylabel('accuracy')\n",
    "plt.legend(loc='lower right', numpoints= 1)\n",
    "plt.show()"
   ]
  },
  {
   "cell_type": "markdown",
   "metadata": {},
   "source": [
    "The behavior shown in the graph:\n",
    "- perfect 'memorizing' train set\n",
    "- quickly learning how to predict a held-out validation set\n",
    "is characteristic for high-variance model, which is not surprising for a model with ~5'000 cases trained on ~3'000 features. Most probably such a model will fit to noise and generalization may be sub par.\n",
    "\n",
    "Thus, the plan for model improvement includes:\n",
    "- reducing # of features either through filtering for most important variables or penalizing flexibility (l1 or l2 penalties).\n",
    "- further feature engineering \n",
    "- trying other models, e.g. Logistic Regression or Gradient Boosted Trees, which are less sensitive to noise"
   ]
  },
  {
   "cell_type": "markdown",
   "metadata": {},
   "source": [
    "## Model validation on held-out set"
   ]
  },
  {
   "cell_type": "code",
   "execution_count": 112,
   "metadata": {
    "collapsed": true
   },
   "outputs": [],
   "source": [
    "import sklearn.metrics as mts"
   ]
  },
  {
   "cell_type": "code",
   "execution_count": 124,
   "metadata": {
    "collapsed": false
   },
   "outputs": [
    {
     "name": "stdout",
     "output_type": "stream",
     "text": [
      "AUC on held-out sample is 0.92616\n"
     ]
    }
   ],
   "source": [
    "print('AUC on held-out sample is %0.5f' % mts.roc_auc_score(y_val, rf.predict_proba(data_val)[:,1]))"
   ]
  },
  {
   "cell_type": "markdown",
   "metadata": {},
   "source": [
    "The resulting AUC of .92 is very good, provided it will generalize well. Let's see what model improvements are possible."
   ]
  }
 ],
 "metadata": {
  "kernelspec": {
   "display_name": "Python 3",
   "language": "python",
   "name": "python3"
  },
  "language_info": {
   "codemirror_mode": {
    "name": "ipython",
    "version": 3
   },
   "file_extension": ".py",
   "mimetype": "text/x-python",
   "name": "python",
   "nbconvert_exporter": "python",
   "pygments_lexer": "ipython3",
   "version": "3.4.3"
  }
 },
 "nbformat": 4,
 "nbformat_minor": 0
}
