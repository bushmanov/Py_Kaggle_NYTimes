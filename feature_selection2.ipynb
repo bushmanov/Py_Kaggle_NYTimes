{
 "cells": [
  {
   "cell_type": "markdown",
   "metadata": {},
   "source": [
    "This is the 4-th post in the series of predicting popularity of a blog post on NYTimes.\n",
    "\n",
    "The first three are:  \n",
    "- [Naïve Random Forest Classifier](http://r-train.ru/naive-random-forest-classifier/)\n",
    "- [Fitting models on low signal-to-noise data](http://r-train.ru/fitting-models-on-low-signal-to-noise-data/)\n",
    "- [Feature selection 1: Univariate](http://r-train.ru/feature-selection-1-univariate/)\n",
    "\n",
    "In this post I am going to compare in-model feature section in plain vanilla `LogisticRegression` vs. that plus fitting Random Forest on a reduced number of features.\n",
    "\n",
    "The plan is as following:\n",
    "\n",
    "1. [Standard](http://r-train.ru/naive-random-forest-classifier/) preprocessing.\n",
    "2. Tuning hyperparameters of `LogisticRegression` on a train subset.\n",
    "3. Validating two models on the validation subset:\n",
    "    - best `LogisticRegression` with tuned parameters\n",
    "    - `ExtraTreesClassifier` on a reduced # of features"
   ]
  },
  {
   "cell_type": "markdown",
   "metadata": {},
   "source": [
    "## Preprocess data"
   ]
  },
  {
   "cell_type": "code",
   "execution_count": 1,
   "metadata": {
    "collapsed": true
   },
   "outputs": [],
   "source": [
    "#Load data\n",
    "import numpy as np\n",
    "import pandas as pd\n",
    "seed = 1\n",
    "train = pd.read_csv('/home/sergey/R_Analyttics_Edge_MITx/kaggle/NYTimesBlogTrain.csv')\n",
    "test = pd.read_csv('/home/sergey/R_Analyttics_Edge_MITx/kaggle/NYTimesBlogTest.csv')\n",
    "combo = pd.merge(train, test, how='outer')\n",
    "combo = combo.drop('Popular', axis=1)\n",
    "y = train['Popular']\n",
    "combo_clean = combo.fillna('empty')\n",
    "combo_clean['LogWC'] = np.log(.1+ combo_clean['WordCount'])\n",
    "\n",
    "#Extract Date/time info and bin time\n",
    "import datetime as dt\n",
    "combo_clean['date'] = combo_clean['PubDate'].apply(\n",
    "    lambda x: dt.datetime.strptime(x, '%Y-%m-%d %H:%M:%S').strftime('%A')\n",
    ")\n",
    "combo_clean['hour'] = combo_clean['PubDate'].apply(\n",
    "    lambda x: int(dt.datetime.strptime(x, '%Y-%m-%d %H:%M:%S').strftime('%H'))\n",
    ")\n",
    "combo_clean[['PubDate','date','hour']][1:5]\n",
    "bins = np.linspace(0,24,5)\n",
    "labels = ['night', 'morning', 'afternoon', 'evening']\n",
    "combo_clean['hour_bins'] = pd.cut(combo_clean['hour'], bins=bins, labels=labels)\n",
    "combo_clean.drop(['hour', 'WordCount', 'PubDate'], axis=1, inplace=True)\n",
    "\n",
    "#Make dummies and bags of words\n",
    "import sklearn.feature_extraction.text as txt\n",
    "categorical_dummies = pd.get_dummies(combo_clean[['NewsDesk','SectionName','SubsectionName','date', 'hour_bins']])\n",
    "categorical_dummies.shape\n",
    "tfidf = txt.TfidfVectorizer(stop_words='english', min_df=10, ngram_range=(1, 2),)\n",
    "tfidf\n",
    "bwHeadline       = (tfidf.fit_transform(combo_clean['Headline'])).todense()\n",
    "bwHeadline_names = np.asarray(tfidf.get_feature_names())\n",
    "bwHeadline_names = np.core.defchararray.add('H_', bwHeadline_names)\n",
    "bwAbstract       = (tfidf.fit_transform(combo_clean['Abstract'])).todense()\n",
    "bwAbstract_names = np.asarray(tfidf.get_feature_names())\n",
    "bwAbstract_names = np.core.defchararray.add('A_', bwAbstract_names)\n",
    "\n",
    "#Put everything together\n",
    "data = np.concatenate((categorical_dummies, bwHeadline, bwAbstract), axis=1)\n",
    "feature_names = np.concatenate((categorical_dummies.columns, bwHeadline_names, bwAbstract_names), axis=0)\n",
    "data_train = data[: train.shape[0],:]\n",
    "data_test  = data[train.shape[0]:,:]\n",
    "import sklearn.cross_validation as cv\n",
    "data_train, data_val, y_train, y_val = cv.train_test_split(data_train, y, test_size=.2, random_state=seed)"
   ]
  },
  {
   "cell_type": "markdown",
   "metadata": {},
   "source": [
    "## Tuning LogisticRegression"
   ]
  },
  {
   "cell_type": "code",
   "execution_count": 14,
   "metadata": {
    "collapsed": false
   },
   "outputs": [],
   "source": [
    "import sklearn.linear_model as lm\n",
    "import sklearn.cross_validation as cv\n",
    "import sklearn.grid_search as grd\n",
    "import sklearn.metrics as mts"
   ]
  },
  {
   "cell_type": "code",
   "execution_count": 21,
   "metadata": {
    "collapsed": false
   },
   "outputs": [
    {
     "data": {
      "text/plain": [
       "LogisticRegression(C=1.0, class_weight='auto', dual=False, fit_intercept=True,\n",
       "          intercept_scaling=1, max_iter=100, multi_class='ovr',\n",
       "          penalty='l2', random_state=1, solver='liblinear', tol=0.0001,\n",
       "          verbose=0)"
      ]
     },
     "execution_count": 21,
     "metadata": {},
     "output_type": "execute_result"
    }
   ],
   "source": [
    "lg_mod = lm.LogisticRegression(random_state=seed, class_weight='auto')\n",
    "lg_mod"
   ]
  },
  {
   "cell_type": "code",
   "execution_count": 25,
   "metadata": {
    "collapsed": false
   },
   "outputs": [
    {
     "data": {
      "text/plain": [
       "GridSearchCV(cv=10, error_score='raise',\n",
       "       estimator=LogisticRegression(C=1.0, class_weight='auto', dual=False, fit_intercept=True,\n",
       "          intercept_scaling=1, max_iter=100, multi_class='ovr',\n",
       "          penalty='l2', random_state=1, solver='liblinear', tol=0.0001,\n",
       "          verbose=0),\n",
       "       fit_params={}, iid=True, loss_func=None, n_jobs=1,\n",
       "       param_grid={'C': array([  1.00000e-02,   1.09750e-02, ...,   9.11163e+01,   1.00000e+02]), 'penalty': ['l1', 'l2']},\n",
       "       pre_dispatch='2*n_jobs', refit=True, score_func=None,\n",
       "       scoring='roc_auc', verbose=0)"
      ]
     },
     "execution_count": 25,
     "metadata": {},
     "output_type": "execute_result"
    }
   ],
   "source": [
    "param = {'C': np.logspace(-2,2.,100),\n",
    "        'penalty': ['l1', 'l2']}\n",
    "gr = grd.GridSearchCV(lg_mod, param_grid=param, scoring = 'roc_auc', cv=10)\n",
    "gr"
   ]
  },
  {
   "cell_type": "code",
   "execution_count": 26,
   "metadata": {
    "collapsed": false
   },
   "outputs": [
    {
     "data": {
      "text/plain": [
       "GridSearchCV(cv=10, error_score='raise',\n",
       "       estimator=LogisticRegression(C=1.0, class_weight='auto', dual=False, fit_intercept=True,\n",
       "          intercept_scaling=1, max_iter=100, multi_class='ovr',\n",
       "          penalty='l2', random_state=1, solver='liblinear', tol=0.0001,\n",
       "          verbose=0),\n",
       "       fit_params={}, iid=True, loss_func=None, n_jobs=1,\n",
       "       param_grid={'C': array([  1.00000e-02,   1.09750e-02, ...,   9.11163e+01,   1.00000e+02]), 'penalty': ['l1', 'l2']},\n",
       "       pre_dispatch='2*n_jobs', refit=True, score_func=None,\n",
       "       scoring='roc_auc', verbose=0)"
      ]
     },
     "execution_count": 26,
     "metadata": {},
     "output_type": "execute_result"
    }
   ],
   "source": [
    "gr.fit(data_train, y_train)"
   ]
  },
  {
   "cell_type": "code",
   "execution_count": 39,
   "metadata": {
    "collapsed": true
   },
   "outputs": [],
   "source": [
    "auc_std  = np.array([np.std(i[2]) for i in gr.grid_scores_])\n",
    "auc_mean = np.array([np.mean(i[2]) for i in gr.grid_scores_])\n",
    "penalty  = np.array([i[0]['penalty'] for i in gr.grid_scores_])\n",
    "lower_l1 = auc_mean[penalty == 'l1'] - 2*auc_std[penalty == 'l1']\n",
    "upper_l1 = auc_mean[penalty == 'l1'] + 2*auc_std[penalty == 'l1']\n",
    "lower_l2 = auc_mean[penalty == 'l2'] - 2*auc_std[penalty == 'l2']\n",
    "upper_l2 = auc_mean[penalty == 'l2'] + 2*auc_std[penalty == 'l2']"
   ]
  },
  {
   "cell_type": "code",
   "execution_count": 29,
   "metadata": {
    "collapsed": true
   },
   "outputs": [],
   "source": [
    "% matplotlib inline\n",
    "import matplotlib.pyplot as plt"
   ]
  },
  {
   "cell_type": "code",
   "execution_count": 73,
   "metadata": {
    "collapsed": false,
    "scrolled": true
   },
   "outputs": [
    {
     "data": {
      "image/png": "[encoded data removed]",
      "text/plain": [
       "<matplotlib.figure.Figure at 0x7fde88750eb8>"
      ]
     },
     "metadata": {},
     "output_type": "display_data"
    }
   ],
   "source": [
    "plt.figure(figsize=(15,5))\n",
    "plt.subplot(1,2,1)\n",
    "plt.plot(auc_mean[penalty == 'l1'], 'r', label = 'l1')\n",
    "plt.fill_between(np.arange(len(upper_l1)),upper_l1, lower_l1, color='r', alpha=.2)\n",
    "plt.plot(auc_mean[penalty == 'l2'], 'b', label = 'l2')\n",
    "plt.fill_between(np.arange(len(upper_l2)),upper_l2, lower_l2, color='b', alpha=.2)\n",
    "plt.legend(numpoints=1)\n",
    "plt.grid()\n",
    "plt.title('AUC for l1 vs l2 penalty')\n",
    "plt.show()"
   ]
  },
  {
   "cell_type": "code",
   "execution_count": 43,
   "metadata": {
    "collapsed": false,
    "scrolled": true
   },
   "outputs": [
    {
     "data": {
      "text/plain": [
       "LogisticRegression(C=1.5199110829529348, class_weight='auto', dual=False,\n",
       "          fit_intercept=True, intercept_scaling=1, max_iter=100,\n",
       "          multi_class='ovr', penalty='l2', random_state=1,\n",
       "          solver='liblinear', tol=0.0001, verbose=0)"
      ]
     },
     "execution_count": 43,
     "metadata": {},
     "output_type": "execute_result"
    }
   ],
   "source": [
    "gr.best_estimator_"
   ]
  },
  {
   "cell_type": "code",
   "execution_count": 189,
   "metadata": {
    "collapsed": false
   },
   "outputs": [
    {
     "data": {
      "text/plain": [
       "0.92274076542906758"
      ]
     },
     "execution_count": 189,
     "metadata": {},
     "output_type": "execute_result"
    }
   ],
   "source": [
    "gr.best_score_"
   ]
  },
  {
   "cell_type": "markdown",
   "metadata": {},
   "source": [
    "## Validating LogisticRegression on held-out test set"
   ]
  },
  {
   "cell_type": "code",
   "execution_count": 96,
   "metadata": {
    "collapsed": false
   },
   "outputs": [
    {
     "data": {
      "text/plain": [
       "LogisticRegression(C=1.5199110829529348, class_weight='auto', dual=False,\n",
       "          fit_intercept=True, intercept_scaling=1, max_iter=100,\n",
       "          multi_class='ovr', penalty='l2', random_state=1,\n",
       "          solver='liblinear', tol=0.0001, verbose=0)"
      ]
     },
     "execution_count": 96,
     "metadata": {},
     "output_type": "execute_result"
    }
   ],
   "source": [
    "best_param = gr.best_estimator_.get_params()\n",
    "lg_mod.set_params(C = best_param['C'],class_weight = best_param['class_weight'],\n",
    "                  penalty = best_param['penalty'], random_state = seed)"
   ]
  },
  {
   "cell_type": "code",
   "execution_count": 97,
   "metadata": {
    "collapsed": false
   },
   "outputs": [
    {
     "data": {
      "text/plain": [
       "LogisticRegression(C=1.5199110829529348, class_weight='auto', dual=False,\n",
       "          fit_intercept=True, intercept_scaling=1, max_iter=100,\n",
       "          multi_class='ovr', penalty='l2', random_state=1,\n",
       "          solver='liblinear', tol=0.0001, verbose=0)"
      ]
     },
     "execution_count": 97,
     "metadata": {},
     "output_type": "execute_result"
    }
   ],
   "source": [
    "lg_mod.fit(data_train, y_train)"
   ]
  },
  {
   "cell_type": "code",
   "execution_count": 99,
   "metadata": {
    "collapsed": false
   },
   "outputs": [
    {
     "data": {
      "text/plain": [
       "0.91514510601841925"
      ]
     },
     "execution_count": 99,
     "metadata": {},
     "output_type": "execute_result"
    }
   ],
   "source": [
    "import sklearn.metrics as mts\n",
    "mts.roc_auc_score(y_val, lg_mod.predict_proba(data_val)[:,1])"
   ]
  },
  {
   "cell_type": "markdown",
   "metadata": {},
   "source": [
    "## Tuning LogisticRegression for filtering + ExtraTreeClassifier for classifier"
   ]
  },
  {
   "cell_type": "code",
   "execution_count": 109,
   "metadata": {
    "collapsed": true
   },
   "outputs": [],
   "source": [
    "import sklearn.ensemble as ens"
   ]
  },
  {
   "cell_type": "code",
   "execution_count": 116,
   "metadata": {
    "collapsed": false,
    "scrolled": true
   },
   "outputs": [
    {
     "name": "stdout",
     "output_type": "stream",
     "text": [
      "Regularization parameter \"C\" is 1.3\n",
      "Threshold selection parameter \"threshold\" is 0.1\n",
      "Threshold selection parameter \"threshold\" is 0.2\n",
      "Threshold selection parameter \"threshold\" is 0.3\n",
      "Threshold selection parameter \"threshold\" is 0.4\n",
      "Threshold selection parameter \"threshold\" is 0.5\n",
      "Threshold selection parameter \"threshold\" is 0.6\n",
      "Threshold selection parameter \"threshold\" is 0.7\n",
      "Threshold selection parameter \"threshold\" is 0.8\n",
      "Threshold selection parameter \"threshold\" is 0.9\n",
      "Regularization parameter \"C\" is 1.4\n",
      "Threshold selection parameter \"threshold\" is 0.1\n",
      "Threshold selection parameter \"threshold\" is 0.2\n",
      "Threshold selection parameter \"threshold\" is 0.3\n",
      "Threshold selection parameter \"threshold\" is 0.4\n",
      "Threshold selection parameter \"threshold\" is 0.5\n",
      "Threshold selection parameter \"threshold\" is 0.6\n",
      "Threshold selection parameter \"threshold\" is 0.7\n",
      "Threshold selection parameter \"threshold\" is 0.8\n",
      "Threshold selection parameter \"threshold\" is 0.9\n",
      "Regularization parameter \"C\" is 1.5\n",
      "Threshold selection parameter \"threshold\" is 0.1\n",
      "Threshold selection parameter \"threshold\" is 0.2\n",
      "Threshold selection parameter \"threshold\" is 0.3\n",
      "Threshold selection parameter \"threshold\" is 0.4\n",
      "Threshold selection parameter \"threshold\" is 0.5\n",
      "Threshold selection parameter \"threshold\" is 0.6\n",
      "Threshold selection parameter \"threshold\" is 0.7\n",
      "Threshold selection parameter \"threshold\" is 0.8\n",
      "Threshold selection parameter \"threshold\" is 0.9\n",
      "Regularization parameter \"C\" is 1.6\n",
      "Threshold selection parameter \"threshold\" is 0.1\n",
      "Threshold selection parameter \"threshold\" is 0.2\n",
      "Threshold selection parameter \"threshold\" is 0.3\n",
      "Threshold selection parameter \"threshold\" is 0.4\n",
      "Threshold selection parameter \"threshold\" is 0.5\n",
      "Threshold selection parameter \"threshold\" is 0.6\n",
      "Threshold selection parameter \"threshold\" is 0.7\n",
      "Threshold selection parameter \"threshold\" is 0.8\n",
      "Threshold selection parameter \"threshold\" is 0.9\n",
      "Regularization parameter \"C\" is 1.7\n",
      "Threshold selection parameter \"threshold\" is 0.1\n",
      "Threshold selection parameter \"threshold\" is 0.2\n",
      "Threshold selection parameter \"threshold\" is 0.3\n",
      "Threshold selection parameter \"threshold\" is 0.4\n",
      "Threshold selection parameter \"threshold\" is 0.5\n",
      "Threshold selection parameter \"threshold\" is 0.6\n",
      "Threshold selection parameter \"threshold\" is 0.7\n",
      "Threshold selection parameter \"threshold\" is 0.8\n",
      "Threshold selection parameter \"threshold\" is 0.9\n"
     ]
    }
   ],
   "source": [
    "lg_mod = lm.LogisticRegression(random_state=seed, class_weight='auto', penalty = 'l2')\n",
    "etc_mod = ens.ExtraTreesClassifier(n_estimators=500, random_state=seed, n_jobs=-1,\n",
    "                                      bootstrap=True, class_weight='auto')\n",
    "\n",
    "\n",
    "cv_scores = []\n",
    "c_ = np.linspace(1.3, 1.7, 5)\n",
    "t_ = np.linspace(.1,.9, 9)\n",
    "for c in c_:\n",
    "    print('Regularization parameter \"C\" is', c)\n",
    "    lg_mod.set_params(C=c)\n",
    "    for t in t_:\n",
    "        print('Threshold selection parameter \"threshold\" is', t)\n",
    "        lg_mod.fit(data_train, y_train)\n",
    "        data_train_filtered = lg_mod.transform(data_train, threshold=t)\n",
    "        folds = cv.StratifiedShuffleSplit(y=y_train, n_iter=5, test_size=.2, random_state=seed)\n",
    "        cv_scores.append(cv.cross_val_score(etc_mod, data_train_filtered, y_train,\n",
    "                                            scoring='roc_auc', cv=folds, n_jobs=-1))"
   ]
  },
  {
   "cell_type": "code",
   "execution_count": 164,
   "metadata": {
    "collapsed": false,
    "scrolled": true
   },
   "outputs": [
    {
     "data": {
      "image/png": "[encoded data removed]",
      "text/plain": [
       "<matplotlib.figure.Figure at 0x7fde88756b00>"
      ]
     },
     "metadata": {},
     "output_type": "display_data"
    }
   ],
   "source": [
    "labels = ('1.3', '1.4', '1.5', '1.6', '1.7')\n",
    "for j in range(5):\n",
    "    plt.plot(np.mean(cv_scores[0+j*9:9+j*9], axis=1), label=labels[j])\n",
    "plt.legend()\n",
    "plt.xticks(np.arange(0,9,1), ('.1', '.2', '.3', '.4', '.5', '.6', '.7', '.8', '.9'))\n",
    "plt.xlabel('Threshold')\n",
    "plt.ylabel('AUC')\n",
    "plt.title('Filtering by LogisticRegression + Fitting ExtraTreeClassifier')\n",
    "plt.grid()\n",
    "plt.show()"
   ]
  },
  {
   "cell_type": "markdown",
   "metadata": {},
   "source": [
    "In sum, all solutions reach maximum near regularizing parameter C=1.5. Optimum threshold is in the .4 ÷ .6 range."
   ]
  },
  {
   "cell_type": "markdown",
   "metadata": {},
   "source": [
    "## Validating LogisticRegression as Filter + ExtraTreesClassifier as classifier"
   ]
  },
  {
   "cell_type": "code",
   "execution_count": 167,
   "metadata": {
    "collapsed": false
   },
   "outputs": [
    {
     "data": {
      "text/plain": [
       "LogisticRegression(C=1.5, class_weight='auto', dual=False, fit_intercept=True,\n",
       "          intercept_scaling=1, max_iter=100, multi_class='ovr',\n",
       "          penalty='l2', random_state=1, solver='liblinear', tol=0.0001,\n",
       "          verbose=0)"
      ]
     },
     "execution_count": 167,
     "metadata": {},
     "output_type": "execute_result"
    }
   ],
   "source": [
    "lg_mod = lm.LogisticRegression(C=1.5, random_state=seed, class_weight='auto')\n",
    "thrlg_mod.fit(data_train, y_train)"
   ]
  },
  {
   "cell_type": "code",
   "execution_count": 186,
   "metadata": {
    "collapsed": false
   },
   "outputs": [
    {
     "name": "stdout",
     "output_type": "stream",
     "text": [
      "# of parameters left after transformation with 0.4 threshold is 837.000\n",
      "# of parameters left after transformation with 0.5 threshold is 557.000\n",
      "# of parameters left after transformation with 0.6 threshold is 383.000\n"
     ]
    }
   ],
   "source": [
    "thr = [.4, .5, .6]\n",
    "for t in thr:\n",
    "    print(\"# of parameters left after transformation with %0.1f threshold is %0.3f\" % \n",
    "          (t,lg_mod.transform(data_train, threshold=t).shape[1]))"
   ]
  },
  {
   "cell_type": "markdown",
   "metadata": {},
   "source": [
    "Let's try all threshold values (.4, .5, .6) and see how good generalizion to validation set will be."
   ]
  },
  {
   "cell_type": "code",
   "execution_count": 188,
   "metadata": {
    "collapsed": false
   },
   "outputs": [
    {
     "name": "stdout",
     "output_type": "stream",
     "text": [
      "# of parameters left after transformation with 0.4 threshold is 837.000\n",
      "AUC on held-out validation set is 0.90627\n",
      "# of parameters left after transformation with 0.5 threshold is 557.000\n",
      "AUC on held-out validation set is 0.89837\n",
      "# of parameters left after transformation with 0.6 threshold is 383.000\n",
      "AUC on held-out validation set is 0.89328\n"
     ]
    }
   ],
   "source": [
    "thr = [.4, .5, .6]\n",
    "etc_mod = ens.ExtraTreesClassifier(n_estimators=3000, random_state=seed, n_jobs=-1,\n",
    "                                      bootstrap=True, class_weight='auto')\n",
    "\n",
    "\n",
    "for t in thr:\n",
    "    data_train_filtered = lg_mod.transform(data_train, threshold=t)\n",
    "    data_val_filtered = lg_mod.transform(data_val, threshold=t)\n",
    "    etc_mod.fit(data_train_filtered, y_train)\n",
    "    auc_ = mts.roc_auc_score(y_val, etc_mod.predict_proba(data_val_filtered)[:,1])\n",
    "    print(\"# of parameters left after transformation with %0.1f threshold is %0.3f\" % \n",
    "          (t, data_train_filtered.shape[1]))\n",
    "    print(\"AUC on held-out validation set is %0.5f\" % auc_)"
   ]
  },
  {
   "cell_type": "markdown",
   "metadata": {},
   "source": [
    "## Summary"
   ]
  },
  {
   "cell_type": "markdown",
   "metadata": {},
   "source": [
    "It's interesting to note the following:\n",
    "- Plain vanilla Logistic Regression ('l2') tuned on train data and validated on held-out subset:\n",
    "    - best in-train AUC is **0.92274** \n",
    "    - validation AUC on held-out subset is **0.915145**\n",
    "- Logistic Regression as filter (837 features) + Random Forest as classifier:\n",
    "    - best in-train AUC is **0.945**\n",
    "    - validation AUC on held-out subset is **0.90627**\n",
    "    \n",
    "It appears, Logistic Regression alone generalizes better than more complicated combination on top of it, leave at alone the speed of fitting Logistic Regression vs Random Forest."
   ]
  }
 ],
 "metadata": {
  "kernelspec": {
   "display_name": "Python 3",
   "language": "python",
   "name": "python3"
  },
  "language_info": {
   "codemirror_mode": {
    "name": "ipython",
    "version": 3
   },
   "file_extension": ".py",
   "mimetype": "text/x-python",
   "name": "python",
   "nbconvert_exporter": "python",
   "pygments_lexer": "ipython3",
   "version": "3.4.3"
  }
 },
 "nbformat": 4,
 "nbformat_minor": 0
}
