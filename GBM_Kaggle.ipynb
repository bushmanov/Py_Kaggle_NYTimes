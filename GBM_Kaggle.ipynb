{
 "cells": [
  {
   "cell_type": "code",
   "execution_count": 1,
   "metadata": {
    "collapsed": false
   },
   "outputs": [],
   "source": [
    "import numpy as np\n",
    "import pandas as pd\n",
    "seed = 1\n",
    "train = pd.read_csv('/home/sergey/R_Analyttics_Edge_MITx/kaggle/NYTimesBlogTrain.csv')\n",
    "test = pd.read_csv('/home/sergey/R_Analyttics_Edge_MITx/kaggle/NYTimesBlogTest.csv')\n",
    "\n",
    "\n",
    "combo = pd.merge(train, test, how='outer')\n",
    "combo = combo.drop('Popular', axis=1)\n",
    "y = train['Popular']\n",
    "combo_clean = combo.fillna('empty')\n",
    "combo_clean['LogWC'] = np.log(.1+ combo_clean['WordCount'])\n",
    "\n",
    "\n",
    "import datetime as dt\n",
    "combo_clean['date'] = combo_clean['PubDate'].apply(\n",
    "    lambda x: dt.datetime.strptime(x, '%Y-%m-%d %H:%M:%S').strftime('%A')\n",
    ")\n",
    "combo_clean['hour'] = combo_clean['PubDate'].apply(\n",
    "    lambda x: int(dt.datetime.strptime(x, '%Y-%m-%d %H:%M:%S').strftime('%H'))\n",
    ")\n",
    "combo_clean[['PubDate','date','hour']][1:5]\n",
    "bins = np.linspace(0,24,5)\n",
    "labels = ['night', 'morning', 'afternoon', 'evening']\n",
    "combo_clean['hour_bins'] = pd.cut(combo_clean['hour'], bins=bins, labels=labels)\n",
    "combo_clean.drop(['hour', 'WordCount', 'PubDate'], axis=1, inplace=True)\n",
    "\n",
    "\n",
    "import sklearn.feature_extraction.text as txt\n",
    "categorical_dummies = pd.get_dummies(combo_clean[['NewsDesk','SectionName','SubsectionName','date']])\n",
    "categorical_hours = pd.get_dummies(combo_clean['hour_bins'].apply(str))\n",
    "\n",
    "\n",
    "import nltk\n",
    "\n",
    "def extractEntities(text):\n",
    "    sentences= nltk.sent_tokenize(text)\n",
    "    entities= {}\n",
    "    for sent in sentences:\n",
    "        chunks = nltk.ne_chunk(nltk.pos_tag(nltk.word_tokenize(sent)))\n",
    "        for chunk in chunks:\n",
    "            if type(chunk) != tuple:\n",
    "                txt = str(chunk)\n",
    "                txt = \"_\".join(\" \".join(txt.split('/')).split()[1::2])\n",
    "                entities[txt] = 1\n",
    "    return \" \".join(dict(entities).keys())\n",
    "\n",
    "\n",
    "entities = combo_clean['Abstract'].apply(extractEntities)\n",
    "\n",
    "\n",
    "import sklearn.feature_extraction.text as txt\n",
    "\n",
    "\n",
    "countVec = txt.CountVectorizer(min_df=2, token_pattern=r'\\w{1,}', stop_words='english',\n",
    "                               strip_accents='unicode', lowercase=True)\n",
    "boe = countVec.fit_transform(entities)"
   ]
  },
  {
   "cell_type": "code",
   "execution_count": 2,
   "metadata": {
    "collapsed": false
   },
   "outputs": [],
   "source": [
    "headlineCount = combo_clean.Headline.map(combo_clean.Headline.value_counts())\n",
    "data = np.concatenate((categorical_dummies,\n",
    "                       categorical_hours,\n",
    "                       boe.todense(),\n",
    "                       combo_clean['LogWC'].to_frame(),\n",
    "                       headlineCount.to_frame()), axis=1)\n",
    "\n",
    "\n",
    "data_train = data[: train.shape[0],:]\n",
    "data_test  = data[train.shape[0]:,:]\n",
    "import sklearn.cross_validation as cv\n",
    "data_train, data_val, y_train, y_val = cv.train_test_split(data_train, y, test_size=.2, random_state=seed)"
   ]
  },
  {
   "cell_type": "markdown",
   "metadata": {},
   "source": [
    "## Tune GradientBoostingClassifier"
   ]
  },
  {
   "cell_type": "code",
   "execution_count": 3,
   "metadata": {
    "collapsed": true
   },
   "outputs": [],
   "source": [
    "import sklearn.grid_search as grd\n",
    "import sklearn.ensemble as ens\n",
    "import sklearn.metrics as mts\n",
    "import sklearn.cross_validation as cv"
   ]
  },
  {
   "cell_type": "code",
   "execution_count": 4,
   "metadata": {
    "collapsed": false
   },
   "outputs": [],
   "source": [
    "import scipy.stats as st"
   ]
  },
  {
   "cell_type": "code",
   "execution_count": 5,
   "metadata": {
    "collapsed": false
   },
   "outputs": [],
   "source": [
    "folds = cv.StratifiedShuffleSplit(y_train, random_state=seed, n_iter=3, test_size=.2)\n",
    "\n",
    "\n",
    "# A tree with max_leaf_nodes=k has k - 1 split nodes \n",
    "# and thus can model interactions of up to order max_leaf_nodes - 1\n",
    "# max_leaf_nodes=k gives comparable results to max_depth=k-1 \n",
    "# but is significantly faster to train at the expense of a slightly higher training error\n",
    "# http://scikit-learn.org/stable/modules/ensemble.html\n",
    "\n",
    "# 'max_features', default for classification sqrt of number of features\n",
    "\n",
    "\n",
    "params = {'max_leaf_nodes':st.randint(3,11),                # add 10 n_iter for every line\n",
    "          'min_samples_leaf': st.randint(3,11),             # add 10 n_iter for every line\n",
    "          'max_features': st.uniform(loc=.1,scale= .5)      # add 10 n_iter for every line\n",
    "         }"
   ]
  },
  {
   "cell_type": "code",
   "execution_count": 6,
   "metadata": {
    "collapsed": false
   },
   "outputs": [
    {
     "data": {
      "text/plain": [
       "RandomizedSearchCV(cv=StratifiedShuffleSplit(labels=[0 0 ..., 1 0], n_iter=3, test_size=0.2, random_state=1),\n",
       "          error_score='raise',\n",
       "          estimator=GradientBoostingClassifier(init=None, learning_rate=0.1, loss='deviance',\n",
       "              max_depth=3, max_features=None, max_leaf_nodes=None,\n",
       "              min_samples_leaf=1, min_samples_split=2,\n",
       "              min_weight_fraction_leaf=0.0, n_estimators=100,\n",
       "              random_state=1, subsample=1.0, verbose=0, warm_start=False),\n",
       "          fit_params={}, iid=True, n_iter=30, n_jobs=-1,\n",
       "          param_distributions={'max_leaf_nodes': <scipy.stats._distn_infrastructure.rv_frozen object at 0x7fc3ca63aac8>, 'min_samples_leaf': <scipy.stats._distn_infrastructure.rv_frozen object at 0x7fc3ca63acf8>, 'max_features': <scipy.stats._distn_infrastructure.rv_frozen object at 0x7fc3ca63aef0>},\n",
       "          pre_dispatch='2*n_jobs', random_state=1, refit=True,\n",
       "          scoring='roc_auc', verbose=0)"
      ]
     },
     "execution_count": 6,
     "metadata": {},
     "output_type": "execute_result"
    }
   ],
   "source": [
    "clf_gbm = ens.GradientBoostingClassifier(random_state=seed, n_estimators=100)\n",
    "rgrid_search = grd.RandomizedSearchCV(clf_gbm, param_distributions = params,\n",
    "                                      n_iter=30, scoring='roc_auc',   # those add up to 30\n",
    "                                      random_state=seed, cv=folds, n_jobs=-1)\n",
    "rgrid_search"
   ]
  },
  {
   "cell_type": "code",
   "execution_count": 7,
   "metadata": {
    "collapsed": false
   },
   "outputs": [
    {
     "name": "stdout",
     "output_type": "stream",
     "text": [
      "1 loops, best of 1: 34min 54s per loop\n"
     ]
    }
   ],
   "source": [
    "%%timeit -n1 -r1\n",
    "rgrid_search.fit(data_train, y_train)"
   ]
  },
  {
   "cell_type": "code",
   "execution_count": 8,
   "metadata": {
    "collapsed": false,
    "scrolled": true
   },
   "outputs": [
    {
     "data": {
      "text/plain": [
       "0.94800292886487036"
      ]
     },
     "execution_count": 8,
     "metadata": {},
     "output_type": "execute_result"
    }
   ],
   "source": [
    "rgrid_search.best_score_"
   ]
  },
  {
   "cell_type": "code",
   "execution_count": 9,
   "metadata": {
    "collapsed": false
   },
   "outputs": [
    {
     "data": {
      "text/plain": [
       "GradientBoostingClassifier(init=None, learning_rate=0.1, loss='deviance',\n",
       "              max_depth=3, max_features=0.42495436862236735,\n",
       "              max_leaf_nodes=10, min_samples_leaf=7, min_samples_split=2,\n",
       "              min_weight_fraction_leaf=0.0, n_estimators=100,\n",
       "              random_state=1, subsample=1.0, verbose=0, warm_start=False)"
      ]
     },
     "execution_count": 9,
     "metadata": {},
     "output_type": "execute_result"
    }
   ],
   "source": [
    "rgrid_search.best_estimator_"
   ]
  },
  {
   "cell_type": "code",
   "execution_count": 10,
   "metadata": {
    "collapsed": false
   },
   "outputs": [
    {
     "data": {
      "text/plain": [
       "{'max_features': 0.42495436862236735,\n",
       " 'max_leaf_nodes': 10,\n",
       " 'min_samples_leaf': 7}"
      ]
     },
     "execution_count": 10,
     "metadata": {},
     "output_type": "execute_result"
    }
   ],
   "source": [
    "rgrid_search.best_params_"
   ]
  },
  {
   "cell_type": "code",
   "execution_count": 11,
   "metadata": {
    "collapsed": false
   },
   "outputs": [
    {
     "data": {
      "text/plain": [
       "0.93651388591418572"
      ]
     },
     "execution_count": 11,
     "metadata": {},
     "output_type": "execute_result"
    }
   ],
   "source": [
    "import sklearn.metrics as mts\n",
    "mts.roc_auc_score(y_val, rgrid_search.best_estimator_.predict_proba(data_val)[:,1])"
   ]
  },
  {
   "cell_type": "code",
   "execution_count": 12,
   "metadata": {
    "collapsed": false
   },
   "outputs": [
    {
     "data": {
      "text/plain": [
       "{'max_features': 0.42495436862236735,\n",
       " 'max_leaf_nodes': 10,\n",
       " 'min_samples_leaf': 7}"
      ]
     },
     "execution_count": 12,
     "metadata": {},
     "output_type": "execute_result"
    }
   ],
   "source": [
    "best_params = rgrid_search.best_params_\n",
    "best_params"
   ]
  },
  {
   "cell_type": "markdown",
   "metadata": {},
   "source": [
    "## Tune learning rate for best model"
   ]
  },
  {
   "cell_type": "code",
   "execution_count": 13,
   "metadata": {
    "collapsed": false
   },
   "outputs": [
    {
     "data": {
      "text/plain": [
       "GridSearchCV(cv=StratifiedShuffleSplit(labels=[0 0 ..., 1 0], n_iter=3, test_size=0.2, random_state=1),\n",
       "       error_score='raise',\n",
       "       estimator=GradientBoostingClassifier(init=None, learning_rate=0.1, loss='deviance',\n",
       "              max_depth=3, max_features=0.42495436862236735,\n",
       "              max_leaf_nodes=10, min_samples_leaf=7, min_samples_split=2,\n",
       "              min_weight_fraction_leaf=0.0, n_estimators=1000,\n",
       "              random_state=1, subsample=1.0, verbose=0, warm_start=False),\n",
       "       fit_params={}, iid=True, loss_func=None, n_jobs=-1,\n",
       "       param_grid={'learning_rate': [0.1, 0.07, 0.05, 0.03]},\n",
       "       pre_dispatch='2*n_jobs', refit=True, score_func=None,\n",
       "       scoring='roc_auc', verbose=0)"
      ]
     },
     "execution_count": 13,
     "metadata": {},
     "output_type": "execute_result"
    }
   ],
   "source": [
    "clf_gbm2 = ens.GradientBoostingClassifier(random_state=seed,\n",
    "                                          max_leaf_nodes= best_params['max_leaf_nodes'],\n",
    "                                          max_features= best_params['max_features'],\n",
    "                                          min_samples_leaf = best_params['min_samples_leaf'],\n",
    "                                          n_estimators=1000)\n",
    "\n",
    "\n",
    "# Lower learning rate decreases overfitting\n",
    "# Learning rate and n_estimators are interconnected\n",
    "# Decreasing learnig rate by a factor of 2\n",
    "# needs increasinf n_estimators by a factor of 10\n",
    "params = {'learning_rate': [.1,.07,.05,.03]}\n",
    "\n",
    "grid_search2 = grd.GridSearchCV(clf_gbm2, param_grid = params,\n",
    "                                scoring='roc_auc', cv=folds, n_jobs=-1)\n",
    "\n",
    "grid_search2"
   ]
  },
  {
   "cell_type": "code",
   "execution_count": 14,
   "metadata": {
    "collapsed": false
   },
   "outputs": [
    {
     "name": "stdout",
     "output_type": "stream",
     "text": [
      "1 loops, best of 1: 1h 5min 52s per loop\n"
     ]
    }
   ],
   "source": [
    "%%timeit -n1 -r1\n",
    "grid_search2.fit(data_train, y_train)"
   ]
  },
  {
   "cell_type": "code",
   "execution_count": 15,
   "metadata": {
    "collapsed": false
   },
   "outputs": [
    {
     "data": {
      "text/plain": [
       "[mean: 0.94159, std: 0.00193, params: {'learning_rate': 0.1},\n",
       " mean: 0.94364, std: 0.00179, params: {'learning_rate': 0.07},\n",
       " mean: 0.94574, std: 0.00240, params: {'learning_rate': 0.05},\n",
       " mean: 0.94654, std: 0.00350, params: {'learning_rate': 0.03}]"
      ]
     },
     "execution_count": 15,
     "metadata": {},
     "output_type": "execute_result"
    }
   ],
   "source": [
    "grid_search2.grid_scores_"
   ]
  },
  {
   "cell_type": "code",
   "execution_count": 16,
   "metadata": {
    "collapsed": false
   },
   "outputs": [
    {
     "data": {
      "text/plain": [
       "0.9465352565348677"
      ]
     },
     "execution_count": 16,
     "metadata": {},
     "output_type": "execute_result"
    }
   ],
   "source": [
    "grid_search2.best_score_"
   ]
  },
  {
   "cell_type": "code",
   "execution_count": 17,
   "metadata": {
    "collapsed": false
   },
   "outputs": [
    {
     "data": {
      "text/plain": [
       "{'learning_rate': 0.03}"
      ]
     },
     "execution_count": 17,
     "metadata": {},
     "output_type": "execute_result"
    }
   ],
   "source": [
    "grid_search2.best_params_"
   ]
  },
  {
   "cell_type": "code",
   "execution_count": 18,
   "metadata": {
    "collapsed": false
   },
   "outputs": [
    {
     "data": {
      "text/plain": [
       "GradientBoostingClassifier(init=None, learning_rate=0.03, loss='deviance',\n",
       "              max_depth=3, max_features=0.42495436862236735,\n",
       "              max_leaf_nodes=10, min_samples_leaf=7, min_samples_split=2,\n",
       "              min_weight_fraction_leaf=0.0, n_estimators=1000,\n",
       "              random_state=1, subsample=1.0, verbose=0, warm_start=False)"
      ]
     },
     "execution_count": 18,
     "metadata": {},
     "output_type": "execute_result"
    }
   ],
   "source": [
    "grid_search2.best_estimator_"
   ]
  },
  {
   "cell_type": "markdown",
   "metadata": {},
   "source": [
    "## Validate best GBM on held-out set"
   ]
  },
  {
   "cell_type": "code",
   "execution_count": 19,
   "metadata": {
    "collapsed": false
   },
   "outputs": [
    {
     "data": {
      "text/plain": [
       "0.93893231955450851"
      ]
     },
     "execution_count": 19,
     "metadata": {},
     "output_type": "execute_result"
    }
   ],
   "source": [
    "mts.roc_auc_score(y_val, grid_search2.best_estimator_.predict_proba(data_val)[:,1])"
   ]
  }
 ],
 "metadata": {
  "kernelspec": {
   "display_name": "Python 3",
   "language": "python",
   "name": "python3"
  },
  "language_info": {
   "codemirror_mode": {
    "name": "ipython",
    "version": 3
   },
   "file_extension": ".py",
   "mimetype": "text/x-python",
   "name": "python",
   "nbconvert_exporter": "python",
   "pygments_lexer": "ipython3",
   "version": "3.4.3"
  }
 },
 "nbformat": 4,
 "nbformat_minor": 0
}
