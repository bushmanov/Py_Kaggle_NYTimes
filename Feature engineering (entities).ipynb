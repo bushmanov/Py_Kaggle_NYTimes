{
 "cells": [
  {
   "cell_type": "markdown",
   "metadata": {},
   "source": [
    "This is a fourth post in a series of exercises to predict popularity of a blog post on NYTimes website.\n",
    "\n",
    "Previous posts are located here:\n",
    "\n",
    "- [Naïve Random Forest Classifier](http://r-train.ru/naive-random-forest-classifier/). This post is about fitting plain vanilla Random Forest on readily available features, like sections where post was published, date, time, and bag of words extracted from Headline and Abstract.  \n",
    "\n",
    "- [Fitting models on low signal-to-noise data](http://r-train.ru/fitting-models-on-low-signal-to-noise-data/). This is somewhat theoretical post showing some theory behind why Random Forest can perform poorly on low signal-to-noise data sets.  \n",
    "\n",
    "- [Feature selection 1: Univariate](http://r-train.ru/feature-selection-1-univariate/) and [Feature selection 2: Logistic Regression](http://r-train.ru/feature-selection-2-logistic-regression-2/). These two posts show several approaches to feature selection (reducing # of features) and compare the performance of in-model vs out-of-model feature selection.  \n",
    "\n",
    "In this post I employ a different approach motivated by this [post](http://nbviewer.ipython.org/gist/mattsco/8dddf256244fb7d47d47). This approach suggests fitting models to proper names (entities in Python jargon).\n",
    "\n",
    "The main difference from what I did before is that instead of bag of words I will generate bag of entities ('boe'). "
   ]
  },
  {
   "cell_type": "markdown",
   "metadata": {},
   "source": [
    "## Load data"
   ]
  },
  {
   "cell_type": "code",
   "execution_count": null,
   "metadata": {
    "collapsed": true
   },
   "outputs": [],
   "source": [
    "import numpy as np\n",
    "import pandas as pd\n",
    "seed = 1\n",
    "train = pd.read_csv('/home/sergey/R_Analyttics_Edge_MITx/kaggle/NYTimesBlogTrain.csv')\n",
    "test = pd.read_csv('/home/sergey/R_Analyttics_Edge_MITx/kaggle/NYTimesBlogTest.csv')"
   ]
  },
  {
   "cell_type": "markdown",
   "metadata": {},
   "source": [
    "## Do some data munging"
   ]
  },
  {
   "cell_type": "code",
   "execution_count": 262,
   "metadata": {
    "collapsed": false
   },
   "outputs": [],
   "source": [
    "combo = pd.merge(train, test, how='outer')\n",
    "combo = combo.drop('Popular', axis=1)\n",
    "y = train['Popular']\n",
    "combo_clean = combo.fillna('empty')\n",
    "combo_clean['LogWC'] = np.log(.1+ combo_clean['WordCount'])"
   ]
  },
  {
   "cell_type": "markdown",
   "metadata": {},
   "source": [
    "## Extract date/time and bin time"
   ]
  },
  {
   "cell_type": "code",
   "execution_count": 263,
   "metadata": {
    "collapsed": false
   },
   "outputs": [],
   "source": [
    "import datetime as dt\n",
    "combo_clean['date'] = combo_clean['PubDate'].apply(\n",
    "    lambda x: dt.datetime.strptime(x, '%Y-%m-%d %H:%M:%S').strftime('%A')\n",
    ")\n",
    "combo_clean['hour'] = combo_clean['PubDate'].apply(\n",
    "    lambda x: int(dt.datetime.strptime(x, '%Y-%m-%d %H:%M:%S').strftime('%H'))\n",
    ")\n",
    "combo_clean[['PubDate','date','hour']][1:5]\n",
    "bins = np.linspace(0,24,5)\n",
    "labels = ['night', 'morning', 'afternoon', 'evening']\n",
    "combo_clean['hour_bins'] = pd.cut(combo_clean['hour'], bins=bins, labels=labels)\n",
    "combo_clean.drop(['hour', 'WordCount', 'PubDate'], axis=1, inplace=True)"
   ]
  },
  {
   "cell_type": "markdown",
   "metadata": {},
   "source": [
    "## Dummify section names, dates and hours"
   ]
  },
  {
   "cell_type": "code",
   "execution_count": 264,
   "metadata": {
    "collapsed": false
   },
   "outputs": [],
   "source": [
    "import sklearn.feature_extraction.text as txt\n",
    "categorical_dummies = pd.get_dummies(combo_clean[['NewsDesk','SectionName','SubsectionName','date']])\n",
    "categorical_hours = pd.get_dummies(combo_clean['hour_bins'].apply(str))"
   ]
  },
  {
   "cell_type": "markdown",
   "metadata": {},
   "source": [
    "## Extract entities from headlines and abstracts"
   ]
  },
  {
   "cell_type": "code",
   "execution_count": null,
   "metadata": {
    "collapsed": true
   },
   "outputs": [],
   "source": [
    "import nltk\n",
    "\n",
    "def extractEntities(text):\n",
    "    sentences= nltk.sent_tokenize(text)\n",
    "    entities= {}\n",
    "    for sent in sentences:\n",
    "        chunks = nltk.ne_chunk(nltk.pos_tag(nltk.word_tokenize(sent)))\n",
    "        for chunk in chunks:\n",
    "            if type(chunk) != tuple:\n",
    "                txt = str(chunk)\n",
    "                txt = \"_\".join(\" \".join(txt.split('/')).split()[1::2])\n",
    "                entities[txt] = 1\n",
    "    return \" \".join(dict(entities).keys())\n",
    "\n",
    "\n",
    "entities = combo_clean['Abstract'].apply(extractEntities)"
   ]
  },
  {
   "cell_type": "code",
   "execution_count": 267,
   "metadata": {
    "collapsed": true
   },
   "outputs": [],
   "source": [
    "import sklearn.feature_extraction.text as txt\n",
    "\n",
    "\n",
    "countVec = txt.CountVectorizer(min_df=2, token_pattern=r'\\w{1,}', stop_words='english',\n",
    "                               strip_accents='unicode', lowercase=True)\n",
    "boe = countVec.fit_transform(entities)\n",
    "boe.shape"
   ]
  },
  {
   "cell_type": "markdown",
   "metadata": {},
   "source": [
    "## Calculate headline freq count"
   ]
  },
  {
   "cell_type": "code",
   "execution_count": 269,
   "metadata": {
    "collapsed": false
   },
   "outputs": [],
   "source": [
    "headlineCount = combo_clean.Headline.map(combo_clean.Headline.value_counts())"
   ]
  },
  {
   "cell_type": "markdown",
   "metadata": {},
   "source": [
    "## Put everything together"
   ]
  },
  {
   "cell_type": "code",
   "execution_count": 290,
   "metadata": {
    "collapsed": false
   },
   "outputs": [
    {
     "data": {
      "text/plain": [
       "(8402, 1768)"
      ]
     },
     "execution_count": 290,
     "metadata": {},
     "output_type": "execute_result"
    }
   ],
   "source": [
    "data = np.concatenate((categorical_dummies,\n",
    "                       categorical_hours,\n",
    "                       boe.todense(),\n",
    "                       combo_clean['LogWC'].to_frame(),\n",
    "                       headlineCount.to_frame()), axis=1)\n",
    "\n",
    "\n",
    "data_train = data[: train.shape[0],:]\n",
    "data_test  = data[train.shape[0]:,:]\n",
    "import sklearn.cross_validation as cv\n",
    "data_train, data_val, y_train, y_val = cv.train_test_split(data_train, y, test_size=.2, random_state=seed)"
   ]
  },
  {
   "cell_type": "markdown",
   "metadata": {},
   "source": [
    "## Tune hyperparameters for logistic regression"
   ]
  },
  {
   "cell_type": "code",
   "execution_count": 292,
   "metadata": {
    "collapsed": true
   },
   "outputs": [],
   "source": [
    "import sklearn.linear_model as lm\n",
    "import sklearn.cross_validation as cv\n",
    "import sklearn.grid_search as grd\n",
    "import sklearn.metrics as mts"
   ]
  },
  {
   "cell_type": "code",
   "execution_count": 293,
   "metadata": {
    "collapsed": false
   },
   "outputs": [
    {
     "data": {
      "text/plain": [
       "LogisticRegression(C=1.0, class_weight='auto', dual=False, fit_intercept=True,\n",
       "          intercept_scaling=1, max_iter=100, multi_class='ovr',\n",
       "          penalty='l2', random_state=1, solver='liblinear', tol=0.0001,\n",
       "          verbose=0)"
      ]
     },
     "execution_count": 293,
     "metadata": {},
     "output_type": "execute_result"
    }
   ],
   "source": [
    "lg_mod = lm.LogisticRegression(random_state=seed, class_weight='auto')\n",
    "lg_mod"
   ]
  },
  {
   "cell_type": "code",
   "execution_count": 294,
   "metadata": {
    "collapsed": false
   },
   "outputs": [
    {
     "data": {
      "text/plain": [
       "GridSearchCV(cv=5, error_score='raise',\n",
       "       estimator=LogisticRegression(C=1.0, class_weight='auto', dual=False, fit_intercept=True,\n",
       "          intercept_scaling=1, max_iter=100, multi_class='ovr',\n",
       "          penalty='l2', random_state=1, solver='liblinear', tol=0.0001,\n",
       "          verbose=0),\n",
       "       fit_params={}, iid=True, loss_func=None, n_jobs=1,\n",
       "       param_grid={'C': array([  1.00000e-02,   1.20679e-02,   1.45635e-02,   1.75751e-02,\n",
       "         2.12095e-02,   2.55955e-02,   3.08884e-02,   3.72759e-02,\n",
       "         4.49843e-02,   5.42868e-02,   6.55129e-02,   7.90604e-02,\n",
       "         9.54095e-02,   1.15140e-01,   1.38950e-01,   1.67683e-01,\n",
       "         2.0235...7e+01,   5.68987e+01,   6.86649e+01,\n",
       "         8.28643e+01,   1.00000e+02]), 'penalty': ['l1', 'l2']},\n",
       "       pre_dispatch='2*n_jobs', refit=True, score_func=None,\n",
       "       scoring='roc_auc', verbose=0)"
      ]
     },
     "execution_count": 294,
     "metadata": {},
     "output_type": "execute_result"
    }
   ],
   "source": [
    "param = {'C': np.logspace(-2,2.,50),\n",
    "        'penalty': ['l1', 'l2']}\n",
    "gr = grd.GridSearchCV(lg_mod, param_grid=param, scoring = 'roc_auc', cv=5)\n",
    "gr"
   ]
  },
  {
   "cell_type": "code",
   "execution_count": 295,
   "metadata": {
    "collapsed": false
   },
   "outputs": [
    {
     "data": {
      "text/plain": [
       "GridSearchCV(cv=5, error_score='raise',\n",
       "       estimator=LogisticRegression(C=1.0, class_weight='auto', dual=False, fit_intercept=True,\n",
       "          intercept_scaling=1, max_iter=100, multi_class='ovr',\n",
       "          penalty='l2', random_state=1, solver='liblinear', tol=0.0001,\n",
       "          verbose=0),\n",
       "       fit_params={}, iid=True, loss_func=None, n_jobs=1,\n",
       "       param_grid={'C': array([  1.00000e-02,   1.20679e-02,   1.45635e-02,   1.75751e-02,\n",
       "         2.12095e-02,   2.55955e-02,   3.08884e-02,   3.72759e-02,\n",
       "         4.49843e-02,   5.42868e-02,   6.55129e-02,   7.90604e-02,\n",
       "         9.54095e-02,   1.15140e-01,   1.38950e-01,   1.67683e-01,\n",
       "         2.0235...7e+01,   5.68987e+01,   6.86649e+01,\n",
       "         8.28643e+01,   1.00000e+02]), 'penalty': ['l1', 'l2']},\n",
       "       pre_dispatch='2*n_jobs', refit=True, score_func=None,\n",
       "       scoring='roc_auc', verbose=0)"
      ]
     },
     "execution_count": 295,
     "metadata": {},
     "output_type": "execute_result"
    }
   ],
   "source": [
    "gr.fit(data_train, y_train)"
   ]
  },
  {
   "cell_type": "code",
   "execution_count": 296,
   "metadata": {
    "collapsed": true
   },
   "outputs": [],
   "source": [
    "auc_std  = np.array([np.std(i[2]) for i in gr.grid_scores_])\n",
    "auc_mean = np.array([np.mean(i[2]) for i in gr.grid_scores_])\n",
    "penalty  = np.array([i[0]['penalty'] for i in gr.grid_scores_])\n",
    "lower_l1 = auc_mean[penalty == 'l1'] - 2*auc_std[penalty == 'l1']\n",
    "upper_l1 = auc_mean[penalty == 'l1'] + 2*auc_std[penalty == 'l1']\n",
    "lower_l2 = auc_mean[penalty == 'l2'] - 2*auc_std[penalty == 'l2']\n",
    "upper_l2 = auc_mean[penalty == 'l2'] + 2*auc_std[penalty == 'l2']"
   ]
  },
  {
   "cell_type": "code",
   "execution_count": 297,
   "metadata": {
    "collapsed": true
   },
   "outputs": [],
   "source": [
    "% matplotlib inline\n",
    "import matplotlib.pyplot as plt"
   ]
  },
  {
   "cell_type": "code",
   "execution_count": 298,
   "metadata": {
    "collapsed": false
   },
   "outputs": [
    {
     "data": {
      "image/png": "[encoded data removed]",
      "text/plain": [
       "<matplotlib.figure.Figure at 0x7f94e0795390>"
      ]
     },
     "metadata": {},
     "output_type": "display_data"
    }
   ],
   "source": [
    "plt.figure(figsize=(15,5))\n",
    "plt.subplot(1,2,1)\n",
    "plt.plot(auc_mean[penalty == 'l1'], 'r', label = 'l1')\n",
    "plt.fill_between(np.arange(len(upper_l1)),upper_l1, lower_l1, color='r', alpha=.2)\n",
    "plt.plot(auc_mean[penalty == 'l2'], 'b', label = 'l2')\n",
    "plt.fill_between(np.arange(len(upper_l2)),upper_l2, lower_l2, color='b', alpha=.2)\n",
    "plt.legend(numpoints=1)\n",
    "plt.grid()\n",
    "plt.title('AUC for l1 vs l2 penalty')\n",
    "plt.show()"
   ]
  },
  {
   "cell_type": "code",
   "execution_count": 299,
   "metadata": {
    "collapsed": false
   },
   "outputs": [
    {
     "data": {
      "text/plain": [
       "LogisticRegression(C=0.9102981779915218, class_weight='auto', dual=False,\n",
       "          fit_intercept=True, intercept_scaling=1, max_iter=100,\n",
       "          multi_class='ovr', penalty='l1', random_state=1,\n",
       "          solver='liblinear', tol=0.0001, verbose=0)"
      ]
     },
     "execution_count": 299,
     "metadata": {},
     "output_type": "execute_result"
    }
   ],
   "source": [
    "gr.best_estimator_"
   ]
  },
  {
   "cell_type": "code",
   "execution_count": 300,
   "metadata": {
    "collapsed": false,
    "scrolled": true
   },
   "outputs": [
    {
     "data": {
      "text/plain": [
       "0.93847893420421702"
      ]
     },
     "execution_count": 300,
     "metadata": {},
     "output_type": "execute_result"
    }
   ],
   "source": [
    "gr.best_score_"
   ]
  },
  {
   "cell_type": "markdown",
   "metadata": {},
   "source": [
    "## Validating LogisticRegression on held-out subset"
   ]
  },
  {
   "cell_type": "code",
   "execution_count": 301,
   "metadata": {
    "collapsed": false
   },
   "outputs": [
    {
     "data": {
      "text/plain": [
       "LogisticRegression(C=0.9102981779915218, class_weight='auto', dual=False,\n",
       "          fit_intercept=True, intercept_scaling=1, max_iter=100,\n",
       "          multi_class='ovr', penalty='l1', random_state=1,\n",
       "          solver='liblinear', tol=0.0001, verbose=0)"
      ]
     },
     "execution_count": 301,
     "metadata": {},
     "output_type": "execute_result"
    }
   ],
   "source": [
    "best_param = gr.best_estimator_.get_params()\n",
    "lg_mod.set_params(C = best_param['C'],class_weight = best_param['class_weight'],\n",
    "                  penalty = best_param['penalty'], random_state = seed)"
   ]
  },
  {
   "cell_type": "code",
   "execution_count": 302,
   "metadata": {
    "collapsed": false
   },
   "outputs": [
    {
     "data": {
      "text/plain": [
       "LogisticRegression(C=0.9102981779915218, class_weight='auto', dual=False,\n",
       "          fit_intercept=True, intercept_scaling=1, max_iter=100,\n",
       "          multi_class='ovr', penalty='l1', random_state=1,\n",
       "          solver='liblinear', tol=0.0001, verbose=0)"
      ]
     },
     "execution_count": 302,
     "metadata": {},
     "output_type": "execute_result"
    }
   ],
   "source": [
    "lg_mod.fit(data_train, y_train)"
   ]
  },
  {
   "cell_type": "code",
   "execution_count": 303,
   "metadata": {
    "collapsed": false
   },
   "outputs": [
    {
     "data": {
      "text/plain": [
       "0.93106125508674231"
      ]
     },
     "execution_count": 303,
     "metadata": {},
     "output_type": "execute_result"
    }
   ],
   "source": [
    "import sklearn.metrics as mts\n",
    "mts.roc_auc_score(y_val, lg_mod.predict_proba(data_val)[:,1])"
   ]
  },
  {
   "cell_type": "markdown",
   "metadata": {},
   "source": [
    "## Conclusions"
   ]
  },
  {
   "cell_type": "markdown",
   "metadata": {},
   "source": [
    "Relying on proper names (entities) made quite a significant impact on model performance.\n",
    "\n",
    "Models trained on section names, day of week, part of day, and bag of words out of Abstract and Headline produced:\n",
    "\n",
    "- **0.91514** for [Logistic Regression](http://r-train.ru/feature-selection-2-logistic-regression/) (l2 regularized via cv).\n",
    "- **0.92616** for [Random Forest](http://r-train.ru/naive-random-forest-classifier/) with ~ 3'500 features.\n",
    "\n",
    "This model, Logistic Regression, was trained on section names, day of week, part of day, and bag of words out of **proper names** (entity names). The AUC achieved is **0.93106**. Actually, the superiority of such a model makes perfect sense: people are more prone to comment on posts about famous personalities or places, than about abstract nameless subjects.\n",
    "\n",
    "All the models were tuned via cross-validation on train data set, and validated on the held-out subset the models had not seen before.\n"
   ]
  }
 ],
 "metadata": {
  "kernelspec": {
   "display_name": "Python 3",
   "language": "python",
   "name": "python3"
  },
  "language_info": {
   "codemirror_mode": {
    "name": "ipython",
    "version": 3
   },
   "file_extension": ".py",
   "mimetype": "text/x-python",
   "name": "python",
   "nbconvert_exporter": "python",
   "pygments_lexer": "ipython3",
   "version": "3.4.3"
  }
 },
 "nbformat": 4,
 "nbformat_minor": 0
}
